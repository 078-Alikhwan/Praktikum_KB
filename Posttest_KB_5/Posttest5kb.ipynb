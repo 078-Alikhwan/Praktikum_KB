{
 "cells": [
  {
   "cell_type": "markdown",
   "id": "4333af03-b855-403d-9aa1-bd39efb66a37",
   "metadata": {},
   "source": [
    "# POSTTEST 5\n",
    "# IMPORT PACKACE"
   ]
  },
  {
   "cell_type": "code",
   "execution_count": 1,
   "id": "4fbe4fab-c296-4a0c-b3f7-3c0cd87db515",
   "metadata": {},
   "outputs": [],
   "source": [
    "import pandas as pd\n",
    "import matplotlib.pyplot as plt\n",
    "import seaborn as sns\n",
    "import numpy as np\n",
    "\n",
    "#Untuk Melakukan Data Cleaning\n",
    "from sklearn.impute import SimpleImputer\n",
    "#Untuk Melakukan Classifikasi KNN\n",
    "from sklearn.model_selection import train_test_split\n",
    "from sklearn.neighbors import KNeighborsClassifier\n",
    "from sklearn.metrics import accuracy_score\n",
    "#Untuk Melakukan Classifikasi NAIVE BAYES\n",
    "from sklearn.model_selection import train_test_split\n",
    "from sklearn.naive_bayes import GaussianNB\n",
    "from sklearn.metrics import accuracy_score"
   ]
  },
  {
   "cell_type": "markdown",
   "id": "8f095205-0628-408b-add0-979b3955e613",
   "metadata": {},
   "source": [
    "# Melihat data csv 'Indonesia_coronavirus_daily_data.csv'"
   ]
  },
  {
   "cell_type": "code",
   "execution_count": 2,
   "id": "735edb3a-aba6-4683-a17d-49ac9d996cb4",
   "metadata": {},
   "outputs": [
    {
     "data": {
      "text/html": [
       "<div>\n",
       "<style scoped>\n",
       "    .dataframe tbody tr th:only-of-type {\n",
       "        vertical-align: middle;\n",
       "    }\n",
       "\n",
       "    .dataframe tbody tr th {\n",
       "        vertical-align: top;\n",
       "    }\n",
       "\n",
       "    .dataframe thead th {\n",
       "        text-align: right;\n",
       "    }\n",
       "</style>\n",
       "<table border=\"1\" class=\"dataframe\">\n",
       "  <thead>\n",
       "    <tr style=\"text-align: right;\">\n",
       "      <th></th>\n",
       "      <th>Date</th>\n",
       "      <th>Province</th>\n",
       "      <th>Daily_Case</th>\n",
       "      <th>Daily_Death</th>\n",
       "      <th>Daily_Recovered</th>\n",
       "      <th>Active_Case</th>\n",
       "      <th>Cumulative_Case</th>\n",
       "      <th>Cumulative_Recovered</th>\n",
       "      <th>Cumulative_Death</th>\n",
       "      <th>Cumulative_Active_Case</th>\n",
       "    </tr>\n",
       "  </thead>\n",
       "  <tbody>\n",
       "    <tr>\n",
       "      <th>0</th>\n",
       "      <td>2020-03-01</td>\n",
       "      <td>DKI JAKARTA</td>\n",
       "      <td>2</td>\n",
       "      <td>0</td>\n",
       "      <td>0</td>\n",
       "      <td>2</td>\n",
       "      <td>2</td>\n",
       "      <td>0</td>\n",
       "      <td>0</td>\n",
       "      <td>2</td>\n",
       "    </tr>\n",
       "    <tr>\n",
       "      <th>1</th>\n",
       "      <td>2020-03-02</td>\n",
       "      <td>DKI JAKARTA</td>\n",
       "      <td>2</td>\n",
       "      <td>0</td>\n",
       "      <td>0</td>\n",
       "      <td>2</td>\n",
       "      <td>4</td>\n",
       "      <td>0</td>\n",
       "      <td>0</td>\n",
       "      <td>4</td>\n",
       "    </tr>\n",
       "    <tr>\n",
       "      <th>2</th>\n",
       "      <td>2020-03-03</td>\n",
       "      <td>DKI JAKARTA</td>\n",
       "      <td>2</td>\n",
       "      <td>0</td>\n",
       "      <td>0</td>\n",
       "      <td>2</td>\n",
       "      <td>6</td>\n",
       "      <td>0</td>\n",
       "      <td>0</td>\n",
       "      <td>6</td>\n",
       "    </tr>\n",
       "    <tr>\n",
       "      <th>3</th>\n",
       "      <td>2020-03-04</td>\n",
       "      <td>DKI JAKARTA</td>\n",
       "      <td>2</td>\n",
       "      <td>0</td>\n",
       "      <td>0</td>\n",
       "      <td>2</td>\n",
       "      <td>8</td>\n",
       "      <td>0</td>\n",
       "      <td>0</td>\n",
       "      <td>8</td>\n",
       "    </tr>\n",
       "    <tr>\n",
       "      <th>4</th>\n",
       "      <td>2020-03-05</td>\n",
       "      <td>DKI JAKARTA</td>\n",
       "      <td>0</td>\n",
       "      <td>1</td>\n",
       "      <td>0</td>\n",
       "      <td>-1</td>\n",
       "      <td>8</td>\n",
       "      <td>0</td>\n",
       "      <td>1</td>\n",
       "      <td>7</td>\n",
       "    </tr>\n",
       "  </tbody>\n",
       "</table>\n",
       "</div>"
      ],
      "text/plain": [
       "         Date     Province  Daily_Case  Daily_Death  Daily_Recovered  \\\n",
       "0  2020-03-01  DKI JAKARTA           2            0                0   \n",
       "1  2020-03-02  DKI JAKARTA           2            0                0   \n",
       "2  2020-03-03  DKI JAKARTA           2            0                0   \n",
       "3  2020-03-04  DKI JAKARTA           2            0                0   \n",
       "4  2020-03-05  DKI JAKARTA           0            1                0   \n",
       "\n",
       "   Active_Case  Cumulative_Case  Cumulative_Recovered  Cumulative_Death  \\\n",
       "0            2                2                     0                 0   \n",
       "1            2                4                     0                 0   \n",
       "2            2                6                     0                 0   \n",
       "3            2                8                     0                 0   \n",
       "4           -1                8                     0                 1   \n",
       "\n",
       "   Cumulative_Active_Case  \n",
       "0                       2  \n",
       "1                       4  \n",
       "2                       6  \n",
       "3                       8  \n",
       "4                       7  "
      ]
     },
     "execution_count": 2,
     "metadata": {},
     "output_type": "execute_result"
    }
   ],
   "source": [
    "df = pd.read_csv('Indonesia_coronavirus_daily_data.csv')\n",
    "df.head()"
   ]
  },
  {
   "cell_type": "code",
   "execution_count": 3,
   "id": "f701ded0-6b51-4a19-866c-8806036361cd",
   "metadata": {},
   "outputs": [
    {
     "name": "stdout",
     "output_type": "stream",
     "text": [
      "<class 'pandas.core.frame.DataFrame'>\n",
      "RangeIndex: 17613 entries, 0 to 17612\n",
      "Data columns (total 10 columns):\n",
      " #   Column                  Non-Null Count  Dtype \n",
      "---  ------                  --------------  ----- \n",
      " 0   Date                    17613 non-null  object\n",
      " 1   Province                17613 non-null  object\n",
      " 2   Daily_Case              17613 non-null  int64 \n",
      " 3   Daily_Death             17613 non-null  int64 \n",
      " 4   Daily_Recovered         17613 non-null  int64 \n",
      " 5   Active_Case             17613 non-null  int64 \n",
      " 6   Cumulative_Case         17613 non-null  int64 \n",
      " 7   Cumulative_Recovered    17613 non-null  int64 \n",
      " 8   Cumulative_Death        17613 non-null  int64 \n",
      " 9   Cumulative_Active_Case  17613 non-null  int64 \n",
      "dtypes: int64(8), object(2)\n",
      "memory usage: 1.3+ MB\n"
     ]
    }
   ],
   "source": [
    "df.info()"
   ]
  },
  {
   "cell_type": "code",
   "execution_count": 4,
   "id": "08474044-cf83-4843-916d-8e864a890d85",
   "metadata": {},
   "outputs": [
    {
     "data": {
      "text/plain": [
       "Date                      0\n",
       "Province                  0\n",
       "Daily_Case                0\n",
       "Daily_Death               0\n",
       "Daily_Recovered           0\n",
       "Active_Case               0\n",
       "Cumulative_Case           0\n",
       "Cumulative_Recovered      0\n",
       "Cumulative_Death          0\n",
       "Cumulative_Active_Case    0\n",
       "dtype: int64"
      ]
     },
     "execution_count": 4,
     "metadata": {},
     "output_type": "execute_result"
    }
   ],
   "source": [
    "df.isna().sum()"
   ]
  },
  {
   "cell_type": "code",
   "execution_count": 5,
   "id": "250652fd-9875-493c-91e8-7b7d5a4187c3",
   "metadata": {},
   "outputs": [
    {
     "name": "stdout",
     "output_type": "stream",
     "text": [
      "panjang dataset 17613 baris\n"
     ]
    }
   ],
   "source": [
    "print(f'panjang dataset {len(df)} baris')"
   ]
  },
  {
   "cell_type": "markdown",
   "id": "f5ad5733-1ab3-4e67-9873-3deaa5dba033",
   "metadata": {},
   "source": [
    "# Melihat data csv 'data-jumlah-penduduk-berdasarkan-pendidikan-tahun-2021'"
   ]
  },
  {
   "cell_type": "code",
   "execution_count": 6,
   "id": "f67f13dd-0303-4eeb-8601-27bba974c883",
   "metadata": {},
   "outputs": [
    {
     "data": {
      "text/html": [
       "<div>\n",
       "<style scoped>\n",
       "    .dataframe tbody tr th:only-of-type {\n",
       "        vertical-align: middle;\n",
       "    }\n",
       "\n",
       "    .dataframe tbody tr th {\n",
       "        vertical-align: top;\n",
       "    }\n",
       "\n",
       "    .dataframe thead th {\n",
       "        text-align: right;\n",
       "    }\n",
       "</style>\n",
       "<table border=\"1\" class=\"dataframe\">\n",
       "  <thead>\n",
       "    <tr style=\"text-align: right;\">\n",
       "      <th></th>\n",
       "      <th>tahun</th>\n",
       "      <th>nama_provinsi</th>\n",
       "      <th>nama_kabupaten</th>\n",
       "      <th>nama_kecamatan</th>\n",
       "      <th>nama_kelurahan</th>\n",
       "      <th>pendidikan</th>\n",
       "      <th>jumlah</th>\n",
       "    </tr>\n",
       "  </thead>\n",
       "  <tbody>\n",
       "    <tr>\n",
       "      <th>0</th>\n",
       "      <td>2021</td>\n",
       "      <td>PROVINSI DKI JAKARTA</td>\n",
       "      <td>ADM. KEPULAUAN SERIBU</td>\n",
       "      <td>KEPULAUAN SERIBU UTARA</td>\n",
       "      <td>PULAU PANGGANG</td>\n",
       "      <td>Tidak/Belum Sekolah</td>\n",
       "      <td>124</td>\n",
       "    </tr>\n",
       "    <tr>\n",
       "      <th>1</th>\n",
       "      <td>2021</td>\n",
       "      <td>PROVINSI DKI JAKARTA</td>\n",
       "      <td>ADM. KEPULAUAN SERIBU</td>\n",
       "      <td>KEPULAUAN SERIBU UTARA</td>\n",
       "      <td>PULAU PANGGANG</td>\n",
       "      <td>Belum Tamat SD/Sederajat</td>\n",
       "      <td>747</td>\n",
       "    </tr>\n",
       "    <tr>\n",
       "      <th>2</th>\n",
       "      <td>2021</td>\n",
       "      <td>PROVINSI DKI JAKARTA</td>\n",
       "      <td>ADM. KEPULAUAN SERIBU</td>\n",
       "      <td>KEPULAUAN SERIBU UTARA</td>\n",
       "      <td>PULAU PANGGANG</td>\n",
       "      <td>Tamat SD/Sederajat</td>\n",
       "      <td>1238</td>\n",
       "    </tr>\n",
       "    <tr>\n",
       "      <th>3</th>\n",
       "      <td>2021</td>\n",
       "      <td>PROVINSI DKI JAKARTA</td>\n",
       "      <td>ADM. KEPULAUAN SERIBU</td>\n",
       "      <td>KEPULAUAN SERIBU UTARA</td>\n",
       "      <td>PULAU PANGGANG</td>\n",
       "      <td>SLTP/Sederajat</td>\n",
       "      <td>988</td>\n",
       "    </tr>\n",
       "    <tr>\n",
       "      <th>4</th>\n",
       "      <td>2021</td>\n",
       "      <td>PROVINSI DKI JAKARTA</td>\n",
       "      <td>ADM. KEPULAUAN SERIBU</td>\n",
       "      <td>KEPULAUAN SERIBU UTARA</td>\n",
       "      <td>PULAU PANGGANG</td>\n",
       "      <td>SLTA/Sederajat</td>\n",
       "      <td>2556</td>\n",
       "    </tr>\n",
       "  </tbody>\n",
       "</table>\n",
       "</div>"
      ],
      "text/plain": [
       "   tahun         nama_provinsi         nama_kabupaten          nama_kecamatan  \\\n",
       "0   2021  PROVINSI DKI JAKARTA  ADM. KEPULAUAN SERIBU  KEPULAUAN SERIBU UTARA   \n",
       "1   2021  PROVINSI DKI JAKARTA  ADM. KEPULAUAN SERIBU  KEPULAUAN SERIBU UTARA   \n",
       "2   2021  PROVINSI DKI JAKARTA  ADM. KEPULAUAN SERIBU  KEPULAUAN SERIBU UTARA   \n",
       "3   2021  PROVINSI DKI JAKARTA  ADM. KEPULAUAN SERIBU  KEPULAUAN SERIBU UTARA   \n",
       "4   2021  PROVINSI DKI JAKARTA  ADM. KEPULAUAN SERIBU  KEPULAUAN SERIBU UTARA   \n",
       "\n",
       "   nama_kelurahan                pendidikan  jumlah  \n",
       "0  PULAU PANGGANG       Tidak/Belum Sekolah     124  \n",
       "1  PULAU PANGGANG  Belum Tamat SD/Sederajat     747  \n",
       "2  PULAU PANGGANG        Tamat SD/Sederajat    1238  \n",
       "3  PULAU PANGGANG            SLTP/Sederajat     988  \n",
       "4  PULAU PANGGANG            SLTA/Sederajat    2556  "
      ]
     },
     "execution_count": 6,
     "metadata": {},
     "output_type": "execute_result"
    }
   ],
   "source": [
    "df2 = pd.read_csv('data-jumlah-penduduk-berdasarkan-pendidikan-tahun-2021.csv')\n",
    "df2.head()"
   ]
  },
  {
   "cell_type": "code",
   "execution_count": 7,
   "id": "679cad9e-c522-449e-8d6d-50983da91b4e",
   "metadata": {},
   "outputs": [
    {
     "name": "stdout",
     "output_type": "stream",
     "text": [
      "<class 'pandas.core.frame.DataFrame'>\n",
      "RangeIndex: 2666 entries, 0 to 2665\n",
      "Data columns (total 7 columns):\n",
      " #   Column          Non-Null Count  Dtype \n",
      "---  ------          --------------  ----- \n",
      " 0   tahun           2666 non-null   int64 \n",
      " 1   nama_provinsi   2666 non-null   object\n",
      " 2   nama_kabupaten  2666 non-null   object\n",
      " 3   nama_kecamatan  2666 non-null   object\n",
      " 4   nama_kelurahan  2666 non-null   object\n",
      " 5   pendidikan      2666 non-null   object\n",
      " 6   jumlah          2666 non-null   int64 \n",
      "dtypes: int64(2), object(5)\n",
      "memory usage: 145.9+ KB\n"
     ]
    }
   ],
   "source": [
    "df2.info()"
   ]
  },
  {
   "cell_type": "code",
   "execution_count": 8,
   "id": "725f6c51-c9b5-44c0-876e-ee2061212b6a",
   "metadata": {},
   "outputs": [
    {
     "data": {
      "text/plain": [
       "tahun             0\n",
       "nama_provinsi     0\n",
       "nama_kabupaten    0\n",
       "nama_kecamatan    0\n",
       "nama_kelurahan    0\n",
       "pendidikan        0\n",
       "jumlah            0\n",
       "dtype: int64"
      ]
     },
     "execution_count": 8,
     "metadata": {},
     "output_type": "execute_result"
    }
   ],
   "source": [
    "df2.isna().sum()"
   ]
  },
  {
   "cell_type": "code",
   "execution_count": 9,
   "id": "bcf1491f-0cfc-420d-9484-f640b8ef644f",
   "metadata": {},
   "outputs": [
    {
     "name": "stdout",
     "output_type": "stream",
     "text": [
      "panjang dataset 2666 baris\n"
     ]
    }
   ],
   "source": [
    "print(f'panjang dataset {len(df2)} baris')"
   ]
  },
  {
   "cell_type": "markdown",
   "id": "2daf6abd-5478-46ec-9925-e08b6033849e",
   "metadata": {},
   "source": [
    "# DATA CLEANING"
   ]
  },
  {
   "cell_type": "code",
   "execution_count": 10,
   "id": "42a6924b-da39-4b7d-bf05-298417707b7e",
   "metadata": {},
   "outputs": [],
   "source": [
    "dataset_ns = df.copy()\n",
    "dataset_ns2 = df2.copy()"
   ]
  },
  {
   "cell_type": "code",
   "execution_count": 11,
   "id": "3627ebcd-e319-4345-9034-0723145362d7",
   "metadata": {},
   "outputs": [],
   "source": [
    "imputer_mean = SimpleImputer(strategy='mean')\n",
    "imputer_median = SimpleImputer(strategy='median')\n",
    "imputer_modus = SimpleImputer(strategy='most_frequent')"
   ]
  },
  {
   "cell_type": "markdown",
   "id": "c68ce627-f5a6-4115-bdb9-4ecb13bdeb1a",
   "metadata": {},
   "source": [
    "# MODUS"
   ]
  },
  {
   "cell_type": "code",
   "execution_count": 12,
   "id": "7d7f7008-791e-4ea2-8191-84efdd7d7b69",
   "metadata": {},
   "outputs": [
    {
     "data": {
      "text/plain": [
       "tahun             0\n",
       "nama_provinsi     0\n",
       "nama_kabupaten    0\n",
       "nama_kecamatan    0\n",
       "nama_kelurahan    0\n",
       "pendidikan        0\n",
       "jumlah            0\n",
       "dtype: int64"
      ]
     },
     "execution_count": 12,
     "metadata": {},
     "output_type": "execute_result"
    }
   ],
   "source": [
    "dataset_ns2['jumlah'] = imputer_modus.fit_transform(dataset_ns2[['jumlah']])\n",
    "\n",
    "dataset_ns2.isna().sum()"
   ]
  },
  {
   "cell_type": "markdown",
   "id": "fb8c007a-f615-42f5-a0be-10ca799759f7",
   "metadata": {},
   "source": [
    "# MEAN"
   ]
  },
  {
   "cell_type": "code",
   "execution_count": 13,
   "id": "1941b3b3-0c73-4583-b2d8-e495564d1349",
   "metadata": {},
   "outputs": [
    {
     "data": {
      "text/plain": [
       "tahun             0\n",
       "nama_provinsi     0\n",
       "nama_kabupaten    0\n",
       "nama_kecamatan    0\n",
       "nama_kelurahan    0\n",
       "pendidikan        0\n",
       "jumlah            0\n",
       "dtype: int64"
      ]
     },
     "execution_count": 13,
     "metadata": {},
     "output_type": "execute_result"
    }
   ],
   "source": [
    "dataset_ns2['jumlah'] = imputer_mean.fit_transform(dataset_ns2[['jumlah']])\n",
    "\n",
    "dataset_ns2.isna().sum()"
   ]
  },
  {
   "cell_type": "markdown",
   "id": "365c6477-c0d9-4265-82c5-ed383aed650a",
   "metadata": {},
   "source": [
    "# Menghapus record/feature"
   ]
  },
  {
   "cell_type": "code",
   "execution_count": 14,
   "id": "03de53ff-3f45-4f5e-adf9-f371fd470c91",
   "metadata": {},
   "outputs": [
    {
     "data": {
      "text/plain": [
       "tahun             0\n",
       "nama_provinsi     0\n",
       "nama_kabupaten    0\n",
       "nama_kecamatan    0\n",
       "nama_kelurahan    0\n",
       "pendidikan        0\n",
       "jumlah            0\n",
       "dtype: int64"
      ]
     },
     "execution_count": 14,
     "metadata": {},
     "output_type": "execute_result"
    }
   ],
   "source": [
    "dataset_ns2.dropna(inplace=True)\n",
    "\n",
    "dataset_ns2.isna().sum()"
   ]
  },
  {
   "cell_type": "code",
   "execution_count": 15,
   "id": "9348441f-7d7f-495e-98e7-0d5b11075603",
   "metadata": {},
   "outputs": [
    {
     "data": {
      "text/plain": [
       "17613"
      ]
     },
     "execution_count": 15,
     "metadata": {},
     "output_type": "execute_result"
    }
   ],
   "source": [
    "len(dataset_ns)"
   ]
  },
  {
   "cell_type": "markdown",
   "id": "d5888862-9bd3-44d1-9b5a-914e7a6536b0",
   "metadata": {},
   "source": [
    "# DATA DUPLIKAT"
   ]
  },
  {
   "cell_type": "code",
   "execution_count": 16,
   "id": "fc7dc933-eb3d-476f-aae7-f3b990ae1239",
   "metadata": {},
   "outputs": [
    {
     "data": {
      "text/plain": [
       "0"
      ]
     },
     "execution_count": 16,
     "metadata": {},
     "output_type": "execute_result"
    }
   ],
   "source": [
    "dataset_duplicate = df.copy()\n",
    "\n",
    "dataset_duplicate.duplicated().sum()"
   ]
  },
  {
   "cell_type": "code",
   "execution_count": 17,
   "id": "10124fd5-30a4-4d51-86af-f093098b008d",
   "metadata": {},
   "outputs": [
    {
     "data": {
      "text/plain": [
       "0"
      ]
     },
     "execution_count": 17,
     "metadata": {},
     "output_type": "execute_result"
    }
   ],
   "source": [
    "dataset_duplicate.drop_duplicates(inplace=True)\n",
    "\n",
    "dataset_duplicate.duplicated().sum()"
   ]
  },
  {
   "cell_type": "markdown",
   "id": "bdd128db-aa0b-4166-9495-f5d14595f039",
   "metadata": {},
   "source": [
    "# Naïve Bayes\n"
   ]
  },
  {
   "cell_type": "code",
   "execution_count": 18,
   "id": "8edb0fc2-b77d-46bb-b017-4452deb8081e",
   "metadata": {},
   "outputs": [],
   "source": [
    "x = dataset_ns[['Daily_Case','Daily_Death','Daily_Recovered','Active_Case']]\n",
    "y = dataset_ns['Province']"
   ]
  },
  {
   "cell_type": "code",
   "execution_count": 19,
   "id": "72ec9610-95d3-4ade-91ca-84191b6376d4",
   "metadata": {},
   "outputs": [],
   "source": [
    "x_train, x_test, y_train, y_test = train_test_split(x, y, test_size=.3, shuffle=False, stratify=None)"
   ]
  },
  {
   "cell_type": "code",
   "execution_count": 20,
   "id": "8429bd4a-2222-4f98-91ba-cd1fea7ab18a",
   "metadata": {},
   "outputs": [],
   "source": [
    "classifier = GaussianNB()"
   ]
  },
  {
   "cell_type": "code",
   "execution_count": 21,
   "id": "5d487b4b-6ebd-47d5-99ac-9422be50b32e",
   "metadata": {},
   "outputs": [
    {
     "data": {
      "text/html": [
       "<style>#sk-container-id-1 {color: black;background-color: white;}#sk-container-id-1 pre{padding: 0;}#sk-container-id-1 div.sk-toggleable {background-color: white;}#sk-container-id-1 label.sk-toggleable__label {cursor: pointer;display: block;width: 100%;margin-bottom: 0;padding: 0.3em;box-sizing: border-box;text-align: center;}#sk-container-id-1 label.sk-toggleable__label-arrow:before {content: \"▸\";float: left;margin-right: 0.25em;color: #696969;}#sk-container-id-1 label.sk-toggleable__label-arrow:hover:before {color: black;}#sk-container-id-1 div.sk-estimator:hover label.sk-toggleable__label-arrow:before {color: black;}#sk-container-id-1 div.sk-toggleable__content {max-height: 0;max-width: 0;overflow: hidden;text-align: left;background-color: #f0f8ff;}#sk-container-id-1 div.sk-toggleable__content pre {margin: 0.2em;color: black;border-radius: 0.25em;background-color: #f0f8ff;}#sk-container-id-1 input.sk-toggleable__control:checked~div.sk-toggleable__content {max-height: 200px;max-width: 100%;overflow: auto;}#sk-container-id-1 input.sk-toggleable__control:checked~label.sk-toggleable__label-arrow:before {content: \"▾\";}#sk-container-id-1 div.sk-estimator input.sk-toggleable__control:checked~label.sk-toggleable__label {background-color: #d4ebff;}#sk-container-id-1 div.sk-label input.sk-toggleable__control:checked~label.sk-toggleable__label {background-color: #d4ebff;}#sk-container-id-1 input.sk-hidden--visually {border: 0;clip: rect(1px 1px 1px 1px);clip: rect(1px, 1px, 1px, 1px);height: 1px;margin: -1px;overflow: hidden;padding: 0;position: absolute;width: 1px;}#sk-container-id-1 div.sk-estimator {font-family: monospace;background-color: #f0f8ff;border: 1px dotted black;border-radius: 0.25em;box-sizing: border-box;margin-bottom: 0.5em;}#sk-container-id-1 div.sk-estimator:hover {background-color: #d4ebff;}#sk-container-id-1 div.sk-parallel-item::after {content: \"\";width: 100%;border-bottom: 1px solid gray;flex-grow: 1;}#sk-container-id-1 div.sk-label:hover label.sk-toggleable__label {background-color: #d4ebff;}#sk-container-id-1 div.sk-serial::before {content: \"\";position: absolute;border-left: 1px solid gray;box-sizing: border-box;top: 0;bottom: 0;left: 50%;z-index: 0;}#sk-container-id-1 div.sk-serial {display: flex;flex-direction: column;align-items: center;background-color: white;padding-right: 0.2em;padding-left: 0.2em;position: relative;}#sk-container-id-1 div.sk-item {position: relative;z-index: 1;}#sk-container-id-1 div.sk-parallel {display: flex;align-items: stretch;justify-content: center;background-color: white;position: relative;}#sk-container-id-1 div.sk-item::before, #sk-container-id-1 div.sk-parallel-item::before {content: \"\";position: absolute;border-left: 1px solid gray;box-sizing: border-box;top: 0;bottom: 0;left: 50%;z-index: -1;}#sk-container-id-1 div.sk-parallel-item {display: flex;flex-direction: column;z-index: 1;position: relative;background-color: white;}#sk-container-id-1 div.sk-parallel-item:first-child::after {align-self: flex-end;width: 50%;}#sk-container-id-1 div.sk-parallel-item:last-child::after {align-self: flex-start;width: 50%;}#sk-container-id-1 div.sk-parallel-item:only-child::after {width: 0;}#sk-container-id-1 div.sk-dashed-wrapped {border: 1px dashed gray;margin: 0 0.4em 0.5em 0.4em;box-sizing: border-box;padding-bottom: 0.4em;background-color: white;}#sk-container-id-1 div.sk-label label {font-family: monospace;font-weight: bold;display: inline-block;line-height: 1.2em;}#sk-container-id-1 div.sk-label-container {text-align: center;}#sk-container-id-1 div.sk-container {/* jupyter's `normalize.less` sets `[hidden] { display: none; }` but bootstrap.min.css set `[hidden] { display: none !important; }` so we also need the `!important` here to be able to override the default hidden behavior on the sphinx rendered scikit-learn.org. See: https://github.com/scikit-learn/scikit-learn/issues/21755 */display: inline-block !important;position: relative;}#sk-container-id-1 div.sk-text-repr-fallback {display: none;}</style><div id=\"sk-container-id-1\" class=\"sk-top-container\"><div class=\"sk-text-repr-fallback\"><pre>GaussianNB()</pre><b>In a Jupyter environment, please rerun this cell to show the HTML representation or trust the notebook. <br />On GitHub, the HTML representation is unable to render, please try loading this page with nbviewer.org.</b></div><div class=\"sk-container\" hidden><div class=\"sk-item\"><div class=\"sk-estimator sk-toggleable\"><input class=\"sk-toggleable__control sk-hidden--visually\" id=\"sk-estimator-id-1\" type=\"checkbox\" checked><label for=\"sk-estimator-id-1\" class=\"sk-toggleable__label sk-toggleable__label-arrow\">GaussianNB</label><div class=\"sk-toggleable__content\"><pre>GaussianNB()</pre></div></div></div></div></div>"
      ],
      "text/plain": [
       "GaussianNB()"
      ]
     },
     "execution_count": 21,
     "metadata": {},
     "output_type": "execute_result"
    }
   ],
   "source": [
    "classifier.fit(x_train,y_train)"
   ]
  },
  {
   "cell_type": "code",
   "execution_count": 22,
   "id": "a71ef8ee-0744-41b4-8149-9fdc98ec594b",
   "metadata": {},
   "outputs": [],
   "source": [
    "predicted_value = classifier.predict(x_test)\n",
    "accuracy = accuracy_score(y_test, predicted_value)"
   ]
  },
  {
   "cell_type": "code",
   "execution_count": 23,
   "id": "626099fc-140b-4071-b1a4-4ce16e39d1f4",
   "metadata": {},
   "outputs": [
    {
     "name": "stdout",
     "output_type": "stream",
     "text": [
      "Hasil Prediksi: ['SULAWESI UTARA' 'NUSA TENGGARA BARAT' 'NUSA TENGGARA BARAT' ... 'BANTEN'\n",
      " 'KALIMANTAN TIMUR' 'BANTEN']\n",
      "Class: 12329                   RIAU\n",
      "12330                   RIAU\n",
      "12331                   RIAU\n",
      "12332                   RIAU\n",
      "12333                   RIAU\n",
      "                ...         \n",
      "17608    NUSA TENGGARA TIMUR\n",
      "17609    NUSA TENGGARA TIMUR\n",
      "17610    NUSA TENGGARA TIMUR\n",
      "17611    NUSA TENGGARA TIMUR\n",
      "17612    NUSA TENGGARA TIMUR\n",
      "Name: Province, Length: 5284, dtype: object\n",
      "Akurasi: 0.001514004542013626\n"
     ]
    }
   ],
   "source": [
    "print(f'Hasil Prediksi: {predicted_value}',\n",
    "     f'Class: {y_test}',\n",
    "     f'Akurasi: {accuracy}',\n",
    "     sep = '\\n'\n",
    ")"
   ]
  },
  {
   "cell_type": "code",
   "execution_count": 24,
   "id": "7a1a953d-68b1-4614-b2ef-501cadcb1d03",
   "metadata": {},
   "outputs": [
    {
     "data": {
      "text/plain": [
       "0.001514004542013626"
      ]
     },
     "execution_count": 24,
     "metadata": {},
     "output_type": "execute_result"
    }
   ],
   "source": [
    "classifier.score(x_test,y_test)"
   ]
  },
  {
   "cell_type": "code",
   "execution_count": null,
   "id": "55b4e616-f76d-4a09-9b6a-55848a014f24",
   "metadata": {},
   "outputs": [],
   "source": []
  },
  {
   "cell_type": "markdown",
   "id": "a27549ba-077b-45d5-8fae-b95afd7e7b50",
   "metadata": {},
   "source": [
    "# KNN (K-NEAREST NEIGHBOUR) CLASSIFICATION\n"
   ]
  },
  {
   "cell_type": "code",
   "execution_count": 25,
   "id": "e6877261-d720-4709-99b3-1b47d8399b17",
   "metadata": {},
   "outputs": [
    {
     "data": {
      "text/html": [
       "<div>\n",
       "<style scoped>\n",
       "    .dataframe tbody tr th:only-of-type {\n",
       "        vertical-align: middle;\n",
       "    }\n",
       "\n",
       "    .dataframe tbody tr th {\n",
       "        vertical-align: top;\n",
       "    }\n",
       "\n",
       "    .dataframe thead th {\n",
       "        text-align: right;\n",
       "    }\n",
       "</style>\n",
       "<table border=\"1\" class=\"dataframe\">\n",
       "  <thead>\n",
       "    <tr style=\"text-align: right;\">\n",
       "      <th></th>\n",
       "      <th>Date</th>\n",
       "      <th>Province</th>\n",
       "      <th>Daily_Case</th>\n",
       "      <th>Daily_Death</th>\n",
       "      <th>Daily_Recovered</th>\n",
       "      <th>Active_Case</th>\n",
       "      <th>Cumulative_Case</th>\n",
       "      <th>Cumulative_Recovered</th>\n",
       "      <th>Cumulative_Death</th>\n",
       "      <th>Cumulative_Active_Case</th>\n",
       "    </tr>\n",
       "  </thead>\n",
       "  <tbody>\n",
       "    <tr>\n",
       "      <th>0</th>\n",
       "      <td>2020-03-01</td>\n",
       "      <td>DKI JAKARTA</td>\n",
       "      <td>2</td>\n",
       "      <td>0</td>\n",
       "      <td>0</td>\n",
       "      <td>2</td>\n",
       "      <td>2</td>\n",
       "      <td>0</td>\n",
       "      <td>0</td>\n",
       "      <td>2</td>\n",
       "    </tr>\n",
       "    <tr>\n",
       "      <th>1</th>\n",
       "      <td>2020-03-02</td>\n",
       "      <td>DKI JAKARTA</td>\n",
       "      <td>2</td>\n",
       "      <td>0</td>\n",
       "      <td>0</td>\n",
       "      <td>2</td>\n",
       "      <td>4</td>\n",
       "      <td>0</td>\n",
       "      <td>0</td>\n",
       "      <td>4</td>\n",
       "    </tr>\n",
       "    <tr>\n",
       "      <th>2</th>\n",
       "      <td>2020-03-03</td>\n",
       "      <td>DKI JAKARTA</td>\n",
       "      <td>2</td>\n",
       "      <td>0</td>\n",
       "      <td>0</td>\n",
       "      <td>2</td>\n",
       "      <td>6</td>\n",
       "      <td>0</td>\n",
       "      <td>0</td>\n",
       "      <td>6</td>\n",
       "    </tr>\n",
       "    <tr>\n",
       "      <th>3</th>\n",
       "      <td>2020-03-04</td>\n",
       "      <td>DKI JAKARTA</td>\n",
       "      <td>2</td>\n",
       "      <td>0</td>\n",
       "      <td>0</td>\n",
       "      <td>2</td>\n",
       "      <td>8</td>\n",
       "      <td>0</td>\n",
       "      <td>0</td>\n",
       "      <td>8</td>\n",
       "    </tr>\n",
       "    <tr>\n",
       "      <th>4</th>\n",
       "      <td>2020-03-05</td>\n",
       "      <td>DKI JAKARTA</td>\n",
       "      <td>0</td>\n",
       "      <td>1</td>\n",
       "      <td>0</td>\n",
       "      <td>-1</td>\n",
       "      <td>8</td>\n",
       "      <td>0</td>\n",
       "      <td>1</td>\n",
       "      <td>7</td>\n",
       "    </tr>\n",
       "  </tbody>\n",
       "</table>\n",
       "</div>"
      ],
      "text/plain": [
       "         Date     Province  Daily_Case  Daily_Death  Daily_Recovered  \\\n",
       "0  2020-03-01  DKI JAKARTA           2            0                0   \n",
       "1  2020-03-02  DKI JAKARTA           2            0                0   \n",
       "2  2020-03-03  DKI JAKARTA           2            0                0   \n",
       "3  2020-03-04  DKI JAKARTA           2            0                0   \n",
       "4  2020-03-05  DKI JAKARTA           0            1                0   \n",
       "\n",
       "   Active_Case  Cumulative_Case  Cumulative_Recovered  Cumulative_Death  \\\n",
       "0            2                2                     0                 0   \n",
       "1            2                4                     0                 0   \n",
       "2            2                6                     0                 0   \n",
       "3            2                8                     0                 0   \n",
       "4           -1                8                     0                 1   \n",
       "\n",
       "   Cumulative_Active_Case  \n",
       "0                       2  \n",
       "1                       4  \n",
       "2                       6  \n",
       "3                       8  \n",
       "4                       7  "
      ]
     },
     "execution_count": 25,
     "metadata": {},
     "output_type": "execute_result"
    }
   ],
   "source": [
    "dataset_ns.head()"
   ]
  },
  {
   "cell_type": "code",
   "execution_count": 26,
   "id": "d8012c6d-710b-463d-9ef4-11272bf780a6",
   "metadata": {},
   "outputs": [
    {
     "name": "stdout",
     "output_type": "stream",
     "text": [
      "<class 'pandas.core.frame.DataFrame'>\n",
      "RangeIndex: 17613 entries, 0 to 17612\n",
      "Data columns (total 10 columns):\n",
      " #   Column                  Non-Null Count  Dtype \n",
      "---  ------                  --------------  ----- \n",
      " 0   Date                    17613 non-null  object\n",
      " 1   Province                17613 non-null  object\n",
      " 2   Daily_Case              17613 non-null  int64 \n",
      " 3   Daily_Death             17613 non-null  int64 \n",
      " 4   Daily_Recovered         17613 non-null  int64 \n",
      " 5   Active_Case             17613 non-null  int64 \n",
      " 6   Cumulative_Case         17613 non-null  int64 \n",
      " 7   Cumulative_Recovered    17613 non-null  int64 \n",
      " 8   Cumulative_Death        17613 non-null  int64 \n",
      " 9   Cumulative_Active_Case  17613 non-null  int64 \n",
      "dtypes: int64(8), object(2)\n",
      "memory usage: 1.3+ MB\n"
     ]
    }
   ],
   "source": [
    "dataset_ns.info()"
   ]
  },
  {
   "cell_type": "code",
   "execution_count": 27,
   "id": "62e01389-0396-4e18-9675-bc5ca183dc25",
   "metadata": {},
   "outputs": [],
   "source": [
    "x = dataset_ns[['Daily_Case','Daily_Death','Daily_Recovered','Active_Case']]\n",
    "y = dataset_ns['Province']"
   ]
  },
  {
   "cell_type": "code",
   "execution_count": 28,
   "id": "29483c8a-e899-4457-a9e6-d927c6f6955f",
   "metadata": {},
   "outputs": [],
   "source": [
    "x_train, x_test, y_train, y_test = train_test_split(x, y, random_state=0, test_size=.2)"
   ]
  },
  {
   "cell_type": "code",
   "execution_count": 29,
   "id": "a140fc8e-31e7-404f-9be0-5c54e72fcd05",
   "metadata": {},
   "outputs": [],
   "source": [
    "classifier = KNeighborsClassifier(n_neighbors = 9)"
   ]
  },
  {
   "cell_type": "code",
   "execution_count": 30,
   "id": "a8ba0c37-4dfc-4b6d-bab6-4a8a914414f1",
   "metadata": {},
   "outputs": [
    {
     "data": {
      "text/html": [
       "<style>#sk-container-id-2 {color: black;background-color: white;}#sk-container-id-2 pre{padding: 0;}#sk-container-id-2 div.sk-toggleable {background-color: white;}#sk-container-id-2 label.sk-toggleable__label {cursor: pointer;display: block;width: 100%;margin-bottom: 0;padding: 0.3em;box-sizing: border-box;text-align: center;}#sk-container-id-2 label.sk-toggleable__label-arrow:before {content: \"▸\";float: left;margin-right: 0.25em;color: #696969;}#sk-container-id-2 label.sk-toggleable__label-arrow:hover:before {color: black;}#sk-container-id-2 div.sk-estimator:hover label.sk-toggleable__label-arrow:before {color: black;}#sk-container-id-2 div.sk-toggleable__content {max-height: 0;max-width: 0;overflow: hidden;text-align: left;background-color: #f0f8ff;}#sk-container-id-2 div.sk-toggleable__content pre {margin: 0.2em;color: black;border-radius: 0.25em;background-color: #f0f8ff;}#sk-container-id-2 input.sk-toggleable__control:checked~div.sk-toggleable__content {max-height: 200px;max-width: 100%;overflow: auto;}#sk-container-id-2 input.sk-toggleable__control:checked~label.sk-toggleable__label-arrow:before {content: \"▾\";}#sk-container-id-2 div.sk-estimator input.sk-toggleable__control:checked~label.sk-toggleable__label {background-color: #d4ebff;}#sk-container-id-2 div.sk-label input.sk-toggleable__control:checked~label.sk-toggleable__label {background-color: #d4ebff;}#sk-container-id-2 input.sk-hidden--visually {border: 0;clip: rect(1px 1px 1px 1px);clip: rect(1px, 1px, 1px, 1px);height: 1px;margin: -1px;overflow: hidden;padding: 0;position: absolute;width: 1px;}#sk-container-id-2 div.sk-estimator {font-family: monospace;background-color: #f0f8ff;border: 1px dotted black;border-radius: 0.25em;box-sizing: border-box;margin-bottom: 0.5em;}#sk-container-id-2 div.sk-estimator:hover {background-color: #d4ebff;}#sk-container-id-2 div.sk-parallel-item::after {content: \"\";width: 100%;border-bottom: 1px solid gray;flex-grow: 1;}#sk-container-id-2 div.sk-label:hover label.sk-toggleable__label {background-color: #d4ebff;}#sk-container-id-2 div.sk-serial::before {content: \"\";position: absolute;border-left: 1px solid gray;box-sizing: border-box;top: 0;bottom: 0;left: 50%;z-index: 0;}#sk-container-id-2 div.sk-serial {display: flex;flex-direction: column;align-items: center;background-color: white;padding-right: 0.2em;padding-left: 0.2em;position: relative;}#sk-container-id-2 div.sk-item {position: relative;z-index: 1;}#sk-container-id-2 div.sk-parallel {display: flex;align-items: stretch;justify-content: center;background-color: white;position: relative;}#sk-container-id-2 div.sk-item::before, #sk-container-id-2 div.sk-parallel-item::before {content: \"\";position: absolute;border-left: 1px solid gray;box-sizing: border-box;top: 0;bottom: 0;left: 50%;z-index: -1;}#sk-container-id-2 div.sk-parallel-item {display: flex;flex-direction: column;z-index: 1;position: relative;background-color: white;}#sk-container-id-2 div.sk-parallel-item:first-child::after {align-self: flex-end;width: 50%;}#sk-container-id-2 div.sk-parallel-item:last-child::after {align-self: flex-start;width: 50%;}#sk-container-id-2 div.sk-parallel-item:only-child::after {width: 0;}#sk-container-id-2 div.sk-dashed-wrapped {border: 1px dashed gray;margin: 0 0.4em 0.5em 0.4em;box-sizing: border-box;padding-bottom: 0.4em;background-color: white;}#sk-container-id-2 div.sk-label label {font-family: monospace;font-weight: bold;display: inline-block;line-height: 1.2em;}#sk-container-id-2 div.sk-label-container {text-align: center;}#sk-container-id-2 div.sk-container {/* jupyter's `normalize.less` sets `[hidden] { display: none; }` but bootstrap.min.css set `[hidden] { display: none !important; }` so we also need the `!important` here to be able to override the default hidden behavior on the sphinx rendered scikit-learn.org. See: https://github.com/scikit-learn/scikit-learn/issues/21755 */display: inline-block !important;position: relative;}#sk-container-id-2 div.sk-text-repr-fallback {display: none;}</style><div id=\"sk-container-id-2\" class=\"sk-top-container\"><div class=\"sk-text-repr-fallback\"><pre>KNeighborsClassifier(n_neighbors=9)</pre><b>In a Jupyter environment, please rerun this cell to show the HTML representation or trust the notebook. <br />On GitHub, the HTML representation is unable to render, please try loading this page with nbviewer.org.</b></div><div class=\"sk-container\" hidden><div class=\"sk-item\"><div class=\"sk-estimator sk-toggleable\"><input class=\"sk-toggleable__control sk-hidden--visually\" id=\"sk-estimator-id-2\" type=\"checkbox\" checked><label for=\"sk-estimator-id-2\" class=\"sk-toggleable__label sk-toggleable__label-arrow\">KNeighborsClassifier</label><div class=\"sk-toggleable__content\"><pre>KNeighborsClassifier(n_neighbors=9)</pre></div></div></div></div></div>"
      ],
      "text/plain": [
       "KNeighborsClassifier(n_neighbors=9)"
      ]
     },
     "execution_count": 30,
     "metadata": {},
     "output_type": "execute_result"
    }
   ],
   "source": [
    "classifier.fit(x_train,y_train)"
   ]
  },
  {
   "cell_type": "code",
   "execution_count": 31,
   "id": "49e32cb2-deb9-4867-b1fb-0c48f98703db",
   "metadata": {},
   "outputs": [],
   "source": [
    "predicted_value = classifier.predict(x_test)\n",
    "accuracy = accuracy_score(y_test, predicted_value)"
   ]
  },
  {
   "cell_type": "code",
   "execution_count": 32,
   "id": "b9574ed3-4ead-4cc5-861a-19d2dd19b300",
   "metadata": {},
   "outputs": [
    {
     "name": "stdout",
     "output_type": "stream",
     "text": [
      "Hasil Prediksi: ['ACEH' 'NUSA TENGGARA TIMUR' 'GORONTALO' ... 'JAMBI' 'SUMATERA SELATAN'\n",
      " 'MALUKU']\n",
      "Class: 536                     JAWA BARAT\n",
      "9950             SULAWESI TENGGARA\n",
      "10296            SULAWESI TENGGARA\n",
      "5873              SUMATERA SELATAN\n",
      "8744              KALIMANTAN UTARA\n",
      "                   ...            \n",
      "15845    KEPULAUAN BANGKA BELITUNG\n",
      "2405              SULAWESI SELATAN\n",
      "13079               SULAWESI BARAT\n",
      "14817                       MALUKU\n",
      "3641           NUSA TENGGARA BARAT\n",
      "Name: Province, Length: 3523, dtype: object\n",
      "Akurasi: 0.10360488220266818\n"
     ]
    }
   ],
   "source": [
    "print(f'Hasil Prediksi: {predicted_value}',\n",
    "     f'Class: {y_test}',\n",
    "     f'Akurasi: {accuracy}',\n",
    "     sep = '\\n'\n",
    ")"
   ]
  },
  {
   "cell_type": "code",
   "execution_count": 33,
   "id": "4f825265-363f-4947-9198-4279ded4074f",
   "metadata": {},
   "outputs": [
    {
     "data": {
      "text/plain": [
       "0.10360488220266818"
      ]
     },
     "execution_count": 33,
     "metadata": {},
     "output_type": "execute_result"
    }
   ],
   "source": [
    "classifier.score(x_test,y_test)"
   ]
  },
  {
   "cell_type": "code",
   "execution_count": null,
   "id": "c3a72de3-bbbf-4e98-8ad2-a1a940cb9ea7",
   "metadata": {},
   "outputs": [],
   "source": []
  }
 ],
 "metadata": {
  "kernelspec": {
   "display_name": "Python 3 (ipykernel)",
   "language": "python",
   "name": "python3"
  },
  "language_info": {
   "codemirror_mode": {
    "name": "ipython",
    "version": 3
   },
   "file_extension": ".py",
   "mimetype": "text/x-python",
   "name": "python",
   "nbconvert_exporter": "python",
   "pygments_lexer": "ipython3",
   "version": "3.10.7"
  }
 },
 "nbformat": 4,
 "nbformat_minor": 5
}
