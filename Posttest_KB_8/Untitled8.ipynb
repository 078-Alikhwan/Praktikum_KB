{
 "cells": [
  {
   "cell_type": "markdown",
   "id": "19ca2beb-a182-4349-a296-32fc797895a5",
   "metadata": {},
   "source": [
    "# POSTTEST 8\n",
    "# Deep Learning\n",
    "# Import modul yang di butuhkan"
   ]
  },
  {
   "cell_type": "code",
   "execution_count": 10,
   "id": "89b5dade-bb85-46c5-84f9-e135737ace5a",
   "metadata": {},
   "outputs": [],
   "source": [
    "import tensorflow as tf\n",
    "import matplotlib.pyplot as plt\n",
    "import tensorflow.keras.datasets as tfds\n",
    "import numpy as np"
   ]
  },
  {
   "cell_type": "markdown",
   "id": "ae348ec4-3d35-43a3-902a-19bb688049f1",
   "metadata": {},
   "source": [
    "# Load data set dan membagi data nya menjadi 2"
   ]
  },
  {
   "cell_type": "code",
   "execution_count": 14,
   "id": "f5f52dac-2434-4d5d-b4d2-d1f4612516e6",
   "metadata": {},
   "outputs": [
    {
     "name": "stdout",
     "output_type": "stream",
     "text": [
      "panjang x train : 60000 panjang y train : 60000 panjang x test : 10000 panjang y test : 10000\n"
     ]
    }
   ],
   "source": [
    "(x_train,y_train),(x_test,y_test) = tf.keras.datasets.mnist.load_data()\n",
    "\n",
    "print(f'panjang x train : {len(x_train)}',\n",
    "f'panjang y train : {len(y_train)}',\n",
    "f'panjang x test : {len(x_test)}',\n",
    "f'panjang y test : {len(y_test)}')"
   ]
  },
  {
   "cell_type": "markdown",
   "id": "0e9d429d-d866-488d-b216-415bfc895c56",
   "metadata": {},
   "source": [
    "# Encoding label dengan menggunakan library keras"
   ]
  },
  {
   "cell_type": "code",
   "execution_count": 15,
   "id": "1deb84ff-8066-4ce6-ba04-e870fe0550af",
   "metadata": {},
   "outputs": [],
   "source": [
    "num_class = len(np.unique(y_train))\n",
    "y_train = tf.keras.utils.to_categorical(y_train, num_class)\n",
    "y_test = tf.keras.utils.to_categorical(y_test, num_class)"
   ]
  },
  {
   "cell_type": "markdown",
   "id": "d652f846-0a01-400e-9be2-ec34e93ff851",
   "metadata": {},
   "source": [
    "# Melihat sampel gambar"
   ]
  },
  {
   "cell_type": "code",
   "execution_count": 16,
   "id": "0aef4075-c223-4ef3-88d4-1ad4092eebb6",
   "metadata": {},
   "outputs": [
    {
     "data": {
      "text/plain": [
       "<matplotlib.image.AxesImage at 0x20a902f30a0>"
      ]
     },
     "execution_count": 16,
     "metadata": {},
     "output_type": "execute_result"
    },
    {
     "data": {
      "image/png": "[encoded data removed]",
      "text/plain": [
       "<Figure size 640x480 with 1 Axes>"
      ]
     },
     "metadata": {},
     "output_type": "display_data"
    }
   ],
   "source": [
    "plt.imshow(x_train[78])"
   ]
  },
  {
   "cell_type": "markdown",
   "id": "d85728bf-da44-4664-a1bd-ce76dd68d1a9",
   "metadata": {},
   "source": [
    "# Konversi gambar menjadi 784 x 1 dan normalisasikan nilai pixel"
   ]
  },
  {
   "cell_type": "code",
   "execution_count": 17,
   "id": "feaf495c-88d7-4791-9554-80016d721983",
   "metadata": {},
   "outputs": [],
   "source": [
    "x_train = x_train.reshape(60000, 784)\n",
    "x_test = x_test.reshape(10000, 784)"
   ]
  },
  {
   "cell_type": "code",
   "execution_count": 18,
   "id": "cac0dd6c-f0a7-4a80-a614-f83fc5127cec",
   "metadata": {},
   "outputs": [],
   "source": [
    "x_train = x_train.astype('float32')/255\n",
    "x_test = x_test.astype('float32')/255"
   ]
  },
  {
   "cell_type": "markdown",
   "id": "5ad33b2f-464d-44a7-ab06-92e9a94e55eb",
   "metadata": {},
   "source": [
    "# Membuat sequential mode menggunakan 1 dense layer dengan fungsi aktivasi relu dan softmax"
   ]
  },
  {
   "cell_type": "code",
   "execution_count": 19,
   "id": "86cd1e25-61bd-40dd-bdd8-48896cb7056e",
   "metadata": {},
   "outputs": [
    {
     "name": "stdout",
     "output_type": "stream",
     "text": [
      "Model: \"sequential\"\n",
      "_________________________________________________________________\n",
      " Layer (type)                Output Shape              Param #   \n",
      "=================================================================\n",
      " dense (Dense)               (None, 32)                25120     \n",
      "                                                                 \n",
      " dense_1 (Dense)             (None, 10)                330       \n",
      "                                                                 \n",
      "=================================================================\n",
      "Total params: 25,450\n",
      "Trainable params: 25,450\n",
      "Non-trainable params: 0\n",
      "_________________________________________________________________\n"
     ]
    }
   ],
   "source": [
    "model = tf.keras.Sequential([\n",
    "    tf.keras.layers.Dense(32, activation='relu',input_dim=784),\n",
    "    tf.keras.layers.Dense(num_class, activation='softmax')])\n",
    "model.summary()"
   ]
  },
  {
   "cell_type": "markdown",
   "id": "6ee4c480-ae63-4fc1-84f3-6c09cdcd18d9",
   "metadata": {},
   "source": [
    "# Compile model menggunakan optimizer adam,fungsi loss categorical crossentropy dan metrics accurary"
   ]
  },
  {
   "cell_type": "code",
   "execution_count": 20,
   "id": "863571ce-3f13-43fd-9d8d-b1c9f60b4911",
   "metadata": {},
   "outputs": [],
   "source": [
    "model.compile(\n",
    "    optimizer=tf.keras.optimizers.Adam(),\n",
    "    loss = tf.keras.losses.categorical_crossentropy,\n",
    "    metrics = ['accuracy']\n",
    ")"
   ]
  },
  {
   "cell_type": "markdown",
   "id": "a9a5685f-3a8c-48ad-9a6a-ad8c878ad92a",
   "metadata": {},
   "source": [
    "# Training model dengan epoch 10 dan steps 1000"
   ]
  },
  {
   "cell_type": "code",
   "execution_count": 21,
   "id": "1427eec6-e9cc-427c-85fc-8ebb63e42091",
   "metadata": {},
   "outputs": [
    {
     "name": "stdout",
     "output_type": "stream",
     "text": [
      "Epoch 1/10\n",
      "1000/1000 [==============================] - 1s 1ms/step - loss: 0.4115 - accuracy: 0.8859 - val_loss: 0.2438 - val_accuracy: 0.9294\n",
      "Epoch 2/10\n",
      "1000/1000 [==============================] - 1s 1ms/step - loss: 0.2245 - accuracy: 0.9359 - val_loss: 0.2032 - val_accuracy: 0.9402\n",
      "Epoch 3/10\n",
      "1000/1000 [==============================] - 1s 1ms/step - loss: 0.1813 - accuracy: 0.9484 - val_loss: 0.1704 - val_accuracy: 0.9486\n",
      "Epoch 4/10\n",
      "1000/1000 [==============================] - 1s 1ms/step - loss: 0.1542 - accuracy: 0.9553 - val_loss: 0.1505 - val_accuracy: 0.9548\n",
      "Epoch 5/10\n",
      "1000/1000 [==============================] - 1s 1ms/step - loss: 0.1334 - accuracy: 0.9613 - val_loss: 0.1433 - val_accuracy: 0.9570\n",
      "Epoch 6/10\n",
      "1000/1000 [==============================] - 1s 1ms/step - loss: 0.1197 - accuracy: 0.9650 - val_loss: 0.1419 - val_accuracy: 0.9569\n",
      "Epoch 7/10\n",
      "1000/1000 [==============================] - 1s 1ms/step - loss: 0.1099 - accuracy: 0.9675 - val_loss: 0.1269 - val_accuracy: 0.9615\n",
      "Epoch 8/10\n",
      "1000/1000 [==============================] - 1s 1ms/step - loss: 0.1006 - accuracy: 0.9706 - val_loss: 0.1263 - val_accuracy: 0.9640\n",
      "Epoch 9/10\n",
      "1000/1000 [==============================] - 1s 1ms/step - loss: 0.0922 - accuracy: 0.9725 - val_loss: 0.1194 - val_accuracy: 0.9642\n",
      "Epoch 10/10\n",
      "1000/1000 [==============================] - 1s 1ms/step - loss: 0.0858 - accuracy: 0.9749 - val_loss: 0.1185 - val_accuracy: 0.9647\n"
     ]
    }
   ],
   "source": [
    "history = model.fit(\n",
    "    x = x_train, y =y_train,\n",
    "    validation_data=(x_test,y_test),\n",
    "    epochs=10,\n",
    "    steps_per_epoch=1000,\n",
    "    verbose=1\n",
    ")"
   ]
  },
  {
   "cell_type": "markdown",
   "id": "88b7905d-d692-4894-b7eb-4a6528c5e945",
   "metadata": {},
   "source": [
    "# Melihat akurasi model"
   ]
  },
  {
   "cell_type": "code",
   "execution_count": 23,
   "id": "a411c83e-45dc-41fb-8760-a8fcd7ec7f17",
   "metadata": {},
   "outputs": [
    {
     "name": "stdout",
     "output_type": "stream",
     "text": [
      "Test loss: 0.1184745728969574\n",
      "Test accuracy: 0.9646999835968018\n"
     ]
    }
   ],
   "source": [
    "score = model.evaluate(x_test, y_test, verbose=0)\n",
    "print('Test loss:', score[0])\n",
    "print('Test accuracy:', score[1])"
   ]
  }
 ],
 "metadata": {
  "kernelspec": {
   "display_name": "Python 3 (ipykernel)",
   "language": "python",
   "name": "python3"
  },
  "language_info": {
   "codemirror_mode": {
    "name": "ipython",
    "version": 3
   },
   "file_extension": ".py",
   "mimetype": "text/x-python",
   "name": "python",
   "nbconvert_exporter": "python",
   "pygments_lexer": "ipython3",
   "version": "3.10.7"
  }
 },
 "nbformat": 4,
 "nbformat_minor": 5
}
