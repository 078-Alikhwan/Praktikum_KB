{
 "cells": [
  {
   "cell_type": "markdown",
   "id": "b0871381-5183-4216-96be-a24b356c63a3",
   "metadata": {},
   "source": [
    "# POSTTEST 7\n",
    "# IMPORT PACKAGE"
   ]
  },
  {
   "cell_type": "code",
   "execution_count": 27,
   "id": "c8d95964-212d-486b-bfb5-1bb68189903e",
   "metadata": {},
   "outputs": [],
   "source": [
    "import numpy as np\n",
    "import tensorflow as tf\n"
   ]
  },
  {
   "cell_type": "markdown",
   "id": "5ced9ca3-7bb5-4e87-9ca5-d231252b27a1",
   "metadata": {},
   "source": [
    "# Membuat random tensor dengan shape 5:5"
   ]
  },
  {
   "cell_type": "code",
   "execution_count": 28,
   "id": "a95efd29-375f-4c44-9a1d-f3196f472b26",
   "metadata": {},
   "outputs": [
    {
     "data": {
      "text/plain": [
       "<tf.Tensor: shape=(5, 5), dtype=float32, numpy=\n",
       "array([[-0.28433853,  0.8922832 ,  0.8983451 ,  0.7163981 ,  0.34969485],\n",
       "       [-0.37960768,  0.01531979,  0.27423722, -2.214901  , -0.08514621],\n",
       "       [ 1.0113182 ,  0.6616626 ,  1.383323  , -0.40465203,  0.86142987],\n",
       "       [-0.12589967, -1.418615  ,  2.0295074 ,  0.15304402,  0.13658497],\n",
       "       [-0.49787143,  0.38847125, -0.4244715 ,  0.46214256, -0.5444318 ]],\n",
       "      dtype=float32)>"
      ]
     },
     "execution_count": 28,
     "metadata": {},
     "output_type": "execute_result"
    }
   ],
   "source": [
    "random_tensor = tf.random.normal([5,5], mean=0, stddev=1, seed=1)\n",
    "random_tensor"
   ]
  },
  {
   "cell_type": "markdown",
   "id": "678c5f90-ef12-4b43-93b6-8e2377c1dbfc",
   "metadata": {},
   "source": [
    "# Membuat prime tensor list bilangan prima dengan shape 5:5"
   ]
  },
  {
   "cell_type": "code",
   "execution_count": 29,
   "id": "11823b86-78e0-40f2-a33d-fbc4ea80b8a8",
   "metadata": {},
   "outputs": [
    {
     "data": {
      "text/plain": [
       "<tf.Tensor: shape=(5, 5), dtype=float32, numpy=\n",
       "array([[  2.,   3.,   5.,   7.,  11.],\n",
       "       [ 13.,  17.,  19.,  23.,  29.],\n",
       "       [ 31.,  37.,  41.,  43.,  47.],\n",
       "       [ 53.,  59.,  61.,  71.,  73.],\n",
       "       [ 79.,  83.,  89.,  97., 101.]], dtype=float32)>"
      ]
     },
     "execution_count": 29,
     "metadata": {},
     "output_type": "execute_result"
    }
   ],
   "source": [
    "prime_tensor = tf.constant([2, 3, 5, 7, 11, 13, 17, 19, 23, 29, 31, 37, 41, 43, 47, 53, 59, 61, 71, 73, 79, 83, 89, 97, 101], shape=[5, 5], dtype=tf.float32)\n",
    "prime_tensor"
   ]
  },
  {
   "cell_type": "markdown",
   "id": "08d28ece-30b0-462c-a177-d0f0b3dbbbad",
   "metadata": {},
   "source": [
    "# Hasil dari perhitungan aritmetika 2 variable (Gunakan minimal 5 operator)\n",
    "\n",
    "# Perhitungan aritmatika multiply (perkalian)\n"
   ]
  },
  {
   "cell_type": "code",
   "execution_count": 30,
   "id": "fa2027bb-1750-4c77-b69d-2d70416db313",
   "metadata": {},
   "outputs": [
    {
     "name": "stdout",
     "output_type": "stream",
     "text": [
      "tf.Tensor(\n",
      "[[ -0.56867707   2.6768496    4.4917254    5.0147867    3.8466434 ]\n",
      " [ -4.9349       0.2604365    5.210507   -50.942722    -2.4692402 ]\n",
      " [ 31.350864    24.481516    56.71624    -17.400038    40.487206  ]\n",
      " [ -6.672683   -83.69828    123.79995     10.866125     9.970702  ]\n",
      " [-39.331844    32.243114   -37.77796     44.827827   -54.987614  ]], shape=(5, 5), dtype=float32)\n"
     ]
    }
   ],
   "source": [
    "print(tf.multiply(random_tensor, prime_tensor))"
   ]
  },
  {
   "cell_type": "markdown",
   "id": "5c2725b4-5209-4ec3-98b1-c543fb24354b",
   "metadata": {},
   "source": [
    "# Perhitungan aritmatika divide (pembagian)\n"
   ]
  },
  {
   "cell_type": "code",
   "execution_count": 31,
   "id": "1344e343-fb37-454f-b88c-77c649d366a2",
   "metadata": {},
   "outputs": [
    {
     "name": "stdout",
     "output_type": "stream",
     "text": [
      "tf.Tensor(\n",
      "[[-0.14216927  0.29742774  0.17966902  0.10234259  0.03179044]\n",
      " [-0.02920059  0.00090116  0.01443354 -0.09630004 -0.00293608]\n",
      " [ 0.03262317  0.01788277  0.03373959 -0.00941051  0.0183283 ]\n",
      " [-0.00237547 -0.02404432  0.03327061  0.00215555  0.00187103]\n",
      " [-0.00630217  0.00468038 -0.00476934  0.00476436 -0.00539041]], shape=(5, 5), dtype=float32)\n"
     ]
    }
   ],
   "source": [
    "print(tf.divide(random_tensor, prime_tensor))\n"
   ]
  },
  {
   "cell_type": "markdown",
   "id": "126e614a-a354-4e57-9e63-435ae749053a",
   "metadata": {},
   "source": [
    "# Perhitungan aritmatika add (pertambahan)\n"
   ]
  },
  {
   "cell_type": "code",
   "execution_count": 32,
   "id": "70f8e808-bcc7-4093-8db9-6545cd525485",
   "metadata": {},
   "outputs": [
    {
     "name": "stdout",
     "output_type": "stream",
     "text": [
      "tf.Tensor(\n",
      "[[  1.7156615   3.8922832   5.898345    7.7163982  11.349695 ]\n",
      " [ 12.620392   17.01532    19.274237   20.785099   28.914854 ]\n",
      " [ 32.01132    37.661663   42.383324   42.59535    47.86143  ]\n",
      " [ 52.8741     57.581387   63.029507   71.153046   73.13658  ]\n",
      " [ 78.50213    83.38847    88.57553    97.46214   100.45557  ]], shape=(5, 5), dtype=float32)\n"
     ]
    }
   ],
   "source": [
    "print(tf.add(random_tensor, prime_tensor))"
   ]
  },
  {
   "cell_type": "markdown",
   "id": "e3c1c210-2a28-4f49-9de2-9d1d162105dd",
   "metadata": {},
   "source": [
    "# Perhitungan aritmatika substract (pengurangan)\n"
   ]
  },
  {
   "cell_type": "code",
   "execution_count": 33,
   "id": "566d13f4-215d-41f8-b438-25a92bdb489e",
   "metadata": {},
   "outputs": [
    {
     "name": "stdout",
     "output_type": "stream",
     "text": [
      "[[  -2.2843385   -2.1077168   -4.101655    -6.2836018  -10.650305 ]\n",
      " [ -13.379608   -16.98468    -18.725763   -25.214901   -29.085146 ]\n",
      " [ -29.988682   -36.338337   -39.616676   -43.40465    -46.13857  ]\n",
      " [ -53.1259     -60.418613   -58.970493   -70.846954   -72.86342  ]\n",
      " [ -79.49787    -82.61153    -89.42447    -96.53786   -101.54443  ]]\n"
     ]
    }
   ],
   "source": [
    "print(tf.subtract(random_tensor,prime_tensor).numpy())\n"
   ]
  },
  {
   "cell_type": "markdown",
   "id": "4db33423-2239-47d1-9c3c-d5abb3fc23bd",
   "metadata": {},
   "source": [
    "# Perhitungan aritmatika pow (pangkat)"
   ]
  },
  {
   "cell_type": "code",
   "execution_count": 34,
   "id": "d7fd9421-84ce-49ab-b1b6-82444517361f",
   "metadata": {},
   "outputs": [
    {
     "name": "stdout",
     "output_type": "stream",
     "text": [
      "[[ 8.0848403e-02  7.1040851e-01  5.8508104e-01  9.6845858e-02\n",
      "   9.5627229e-06]\n",
      " [-3.3990286e-06  1.4102624e-31  2.1105780e-11 -8.7730216e+07\n",
      "  -9.4361422e-32]\n",
      " [ 1.4174985e+00  2.3096874e-07  5.9960731e+05 -1.2720790e-17\n",
      "   9.0227008e-04]\n",
      " [-0.0000000e+00 -9.1202765e+08  5.6341576e+18  0.0000000e+00\n",
      "   0.0000000e+00]\n",
      " [-1.1810252e-24  8.2563274e-35 -7.5599596e-34  3.0427649e-33\n",
      "  -2.1394018e-27]]\n"
     ]
    }
   ],
   "source": [
    "print(tf.pow(random_tensor,prime_tensor).numpy())\n"
   ]
  },
  {
   "cell_type": "markdown",
   "id": "3f064fec-3db5-4c62-a295-4c155f721781",
   "metadata": {},
   "source": [
    "# Menampilkan nilai maksimal dari variable random_tensor"
   ]
  },
  {
   "cell_type": "code",
   "execution_count": 35,
   "id": "bde04dfb-1973-4d64-bcef-a1d8e61021b2",
   "metadata": {},
   "outputs": [
    {
     "data": {
      "text/plain": [
       "<tf.Tensor: shape=(5,), dtype=int64, numpy=array([2, 0, 3, 0, 2], dtype=int64)>"
      ]
     },
     "execution_count": 35,
     "metadata": {},
     "output_type": "execute_result"
    }
   ],
   "source": [
    "tf.argmax(random_tensor, axis=0)\n"
   ]
  },
  {
   "cell_type": "markdown",
   "id": "5e9c02f4-3ec3-4763-92b8-56decdfb9345",
   "metadata": {},
   "source": [
    "# Menampilkan nilai minimal dari variable random_tensor"
   ]
  },
  {
   "cell_type": "code",
   "execution_count": 36,
   "id": "a4dda41e-b62a-4a7e-9647-6d3f2bd077ce",
   "metadata": {},
   "outputs": [
    {
     "data": {
      "text/plain": [
       "<tf.Tensor: shape=(5,), dtype=int64, numpy=array([4, 3, 4, 1, 4], dtype=int64)>"
      ]
     },
     "execution_count": 36,
     "metadata": {},
     "output_type": "execute_result"
    }
   ],
   "source": [
    "tf.argmin(random_tensor, axis=0)"
   ]
  },
  {
   "cell_type": "markdown",
   "id": "81cd3e51-9671-43f4-9ff3-a8319ea57ce2",
   "metadata": {},
   "source": [
    "# Penggabungan variable random_tensor dan prime_tensor\n",
    "# (Concatenation)"
   ]
  },
  {
   "cell_type": "code",
   "execution_count": 37,
   "id": "889df66e-7efe-448c-9aeb-daee6101071d",
   "metadata": {},
   "outputs": [
    {
     "name": "stdout",
     "output_type": "stream",
     "text": [
      "Size original pada data random dan prime tensor: (5, 5) (5, 5)\n",
      "Size concatenated data: (10, 5)\n"
     ]
    }
   ],
   "source": [
    "print(\"Size original pada data random dan prime tensor:\",random_tensor.shape,prime_tensor.shape)\n",
    "concated_tensor = tf.concat([random_tensor,prime_tensor],axis=0)\n",
    "print(\"Size concatenated data:\",concated_tensor.shape)\n"
   ]
  },
  {
   "cell_type": "markdown",
   "id": "af241cef-0130-4098-87b3-5bedc5fe6082",
   "metadata": {},
   "source": [
    "# Sorting secara Descending variable random_tensor dan prime_tensor"
   ]
  },
  {
   "cell_type": "code",
   "execution_count": 38,
   "id": "6b542b8f-e3c5-47a9-a8ca-7dfc49dd6bcb",
   "metadata": {},
   "outputs": [
    {
     "name": "stdout",
     "output_type": "stream",
     "text": [
      "input prime tensor: [[  2.   3.   5.   7.  11.]\n",
      " [ 13.  17.  19.  23.  29.]\n",
      " [ 31.  37.  41.  43.  47.]\n",
      " [ 53.  59.  61.  71.  73.]\n",
      " [ 79.  83.  89.  97. 101.]]\n",
      "input random tensor: [[-0.28433853  0.8922832   0.8983451   0.7163981   0.34969485]\n",
      " [-0.37960768  0.01531979  0.27423722 -2.214901   -0.08514621]\n",
      " [ 1.0113182   0.6616626   1.383323   -0.40465203  0.86142987]\n",
      " [-0.12589967 -1.418615    2.0295074   0.15304402  0.13658497]\n",
      " [-0.49787143  0.38847125 -0.4244715   0.46214256 -0.5444318 ]]\n",
      "hasil random tensor sorted dengan descending order: [[ 0.8983451   0.8922832   0.7163981   0.34969485 -0.28433853]\n",
      " [ 0.27423722  0.01531979 -0.08514621 -0.37960768 -2.214901  ]\n",
      " [ 1.383323    1.0113182   0.86142987  0.6616626  -0.40465203]\n",
      " [ 2.0295074   0.15304402  0.13658497 -0.12589967 -1.418615  ]\n",
      " [ 0.46214256  0.38847125 -0.4244715  -0.49787143 -0.5444318 ]]\n",
      "hasil prime tensor sorted dengan descending order: [[ 11.   7.   5.   3.   2.]\n",
      " [ 29.  23.  19.  17.  13.]\n",
      " [ 47.  43.  41.  37.  31.]\n",
      " [ 73.  71.  61.  59.  53.]\n",
      " [101.  97.  89.  83.  79.]]\n"
     ]
    }
   ],
   "source": [
    "print(\"input prime tensor:\",prime_tensor.numpy())\n",
    "print(\"input random tensor:\",random_tensor.numpy())\n",
    "sorted_random = tf.sort(random_tensor, direction = \"DESCENDING\")\n",
    "print(\"hasil random tensor sorted dengan descending order:\",sorted_random.numpy())\n",
    "sorted_prime = tf.sort(prime_tensor, direction = \"DESCENDING\")\n",
    "print(\"hasil prime tensor sorted dengan descending order:\",sorted_prime.numpy())\n"
   ]
  },
  {
   "cell_type": "code",
   "execution_count": null,
   "id": "9537257b-edb6-4920-83f3-2ad0ac3b618d",
   "metadata": {},
   "outputs": [],
   "source": []
  }
 ],
 "metadata": {
  "kernelspec": {
   "display_name": "Python 3 (ipykernel)",
   "language": "python",
   "name": "python3"
  },
  "language_info": {
   "codemirror_mode": {
    "name": "ipython",
    "version": 3
   },
   "file_extension": ".py",
   "mimetype": "text/x-python",
   "name": "python",
   "nbconvert_exporter": "python",
   "pygments_lexer": "ipython3",
   "version": "3.10.7"
  }
 },
 "nbformat": 4,
 "nbformat_minor": 5
}
