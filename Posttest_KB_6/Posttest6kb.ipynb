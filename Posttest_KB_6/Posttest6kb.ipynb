{
 "cells": [
  {
   "cell_type": "markdown",
   "id": "4333af03-b855-403d-9aa1-bd39efb66a37",
   "metadata": {},
   "source": [
    "# POSTTEST 6\n",
    "# IMPORT PACKACE"
   ]
  },
  {
   "cell_type": "code",
   "execution_count": 80,
   "id": "4fbe4fab-c296-4a0c-b3f7-3c0cd87db515",
   "metadata": {},
   "outputs": [],
   "source": [
    "import pandas as pd\n",
    "import matplotlib.pyplot as plt\n",
    "import seaborn as sns\n",
    "import numpy as np\n",
    "\n",
    "#Untuk Melakukan Data Cleaning\n",
    "from sklearn.impute import SimpleImputer\n",
    "#Untuk K-Means\n",
    "from sklearn.cluster import KMeans"
   ]
  },
  {
   "cell_type": "markdown",
   "id": "8f095205-0628-408b-add0-979b3955e613",
   "metadata": {},
   "source": [
    "# Melihat data csv 'Indonesia_coronavirus_daily_data.csv'"
   ]
  },
  {
   "cell_type": "code",
   "execution_count": 81,
   "id": "735edb3a-aba6-4683-a17d-49ac9d996cb4",
   "metadata": {},
   "outputs": [
    {
     "data": {
      "text/html": [
       "<div>\n",
       "<style scoped>\n",
       "    .dataframe tbody tr th:only-of-type {\n",
       "        vertical-align: middle;\n",
       "    }\n",
       "\n",
       "    .dataframe tbody tr th {\n",
       "        vertical-align: top;\n",
       "    }\n",
       "\n",
       "    .dataframe thead th {\n",
       "        text-align: right;\n",
       "    }\n",
       "</style>\n",
       "<table border=\"1\" class=\"dataframe\">\n",
       "  <thead>\n",
       "    <tr style=\"text-align: right;\">\n",
       "      <th></th>\n",
       "      <th>Date</th>\n",
       "      <th>Province</th>\n",
       "      <th>Daily_Case</th>\n",
       "      <th>Daily_Death</th>\n",
       "      <th>Daily_Recovered</th>\n",
       "      <th>Active_Case</th>\n",
       "      <th>Cumulative_Case</th>\n",
       "      <th>Cumulative_Recovered</th>\n",
       "      <th>Cumulative_Death</th>\n",
       "      <th>Cumulative_Active_Case</th>\n",
       "    </tr>\n",
       "  </thead>\n",
       "  <tbody>\n",
       "    <tr>\n",
       "      <th>0</th>\n",
       "      <td>2020-03-01</td>\n",
       "      <td>DKI JAKARTA</td>\n",
       "      <td>2</td>\n",
       "      <td>0</td>\n",
       "      <td>0</td>\n",
       "      <td>2</td>\n",
       "      <td>2</td>\n",
       "      <td>0</td>\n",
       "      <td>0</td>\n",
       "      <td>2</td>\n",
       "    </tr>\n",
       "    <tr>\n",
       "      <th>1</th>\n",
       "      <td>2020-03-02</td>\n",
       "      <td>DKI JAKARTA</td>\n",
       "      <td>2</td>\n",
       "      <td>0</td>\n",
       "      <td>0</td>\n",
       "      <td>2</td>\n",
       "      <td>4</td>\n",
       "      <td>0</td>\n",
       "      <td>0</td>\n",
       "      <td>4</td>\n",
       "    </tr>\n",
       "    <tr>\n",
       "      <th>2</th>\n",
       "      <td>2020-03-03</td>\n",
       "      <td>DKI JAKARTA</td>\n",
       "      <td>2</td>\n",
       "      <td>0</td>\n",
       "      <td>0</td>\n",
       "      <td>2</td>\n",
       "      <td>6</td>\n",
       "      <td>0</td>\n",
       "      <td>0</td>\n",
       "      <td>6</td>\n",
       "    </tr>\n",
       "    <tr>\n",
       "      <th>3</th>\n",
       "      <td>2020-03-04</td>\n",
       "      <td>DKI JAKARTA</td>\n",
       "      <td>2</td>\n",
       "      <td>0</td>\n",
       "      <td>0</td>\n",
       "      <td>2</td>\n",
       "      <td>8</td>\n",
       "      <td>0</td>\n",
       "      <td>0</td>\n",
       "      <td>8</td>\n",
       "    </tr>\n",
       "    <tr>\n",
       "      <th>4</th>\n",
       "      <td>2020-03-05</td>\n",
       "      <td>DKI JAKARTA</td>\n",
       "      <td>0</td>\n",
       "      <td>1</td>\n",
       "      <td>0</td>\n",
       "      <td>-1</td>\n",
       "      <td>8</td>\n",
       "      <td>0</td>\n",
       "      <td>1</td>\n",
       "      <td>7</td>\n",
       "    </tr>\n",
       "  </tbody>\n",
       "</table>\n",
       "</div>"
      ],
      "text/plain": [
       "         Date     Province  Daily_Case  Daily_Death  Daily_Recovered  \\\n",
       "0  2020-03-01  DKI JAKARTA           2            0                0   \n",
       "1  2020-03-02  DKI JAKARTA           2            0                0   \n",
       "2  2020-03-03  DKI JAKARTA           2            0                0   \n",
       "3  2020-03-04  DKI JAKARTA           2            0                0   \n",
       "4  2020-03-05  DKI JAKARTA           0            1                0   \n",
       "\n",
       "   Active_Case  Cumulative_Case  Cumulative_Recovered  Cumulative_Death  \\\n",
       "0            2                2                     0                 0   \n",
       "1            2                4                     0                 0   \n",
       "2            2                6                     0                 0   \n",
       "3            2                8                     0                 0   \n",
       "4           -1                8                     0                 1   \n",
       "\n",
       "   Cumulative_Active_Case  \n",
       "0                       2  \n",
       "1                       4  \n",
       "2                       6  \n",
       "3                       8  \n",
       "4                       7  "
      ]
     },
     "execution_count": 81,
     "metadata": {},
     "output_type": "execute_result"
    }
   ],
   "source": [
    "df = pd.read_csv('Indonesia_coronavirus_daily_data.csv')\n",
    "df.head()"
   ]
  },
  {
   "cell_type": "code",
   "execution_count": 82,
   "id": "f701ded0-6b51-4a19-866c-8806036361cd",
   "metadata": {},
   "outputs": [
    {
     "name": "stdout",
     "output_type": "stream",
     "text": [
      "<class 'pandas.core.frame.DataFrame'>\n",
      "RangeIndex: 17613 entries, 0 to 17612\n",
      "Data columns (total 10 columns):\n",
      " #   Column                  Non-Null Count  Dtype \n",
      "---  ------                  --------------  ----- \n",
      " 0   Date                    17613 non-null  object\n",
      " 1   Province                17613 non-null  object\n",
      " 2   Daily_Case              17613 non-null  int64 \n",
      " 3   Daily_Death             17613 non-null  int64 \n",
      " 4   Daily_Recovered         17613 non-null  int64 \n",
      " 5   Active_Case             17613 non-null  int64 \n",
      " 6   Cumulative_Case         17613 non-null  int64 \n",
      " 7   Cumulative_Recovered    17613 non-null  int64 \n",
      " 8   Cumulative_Death        17613 non-null  int64 \n",
      " 9   Cumulative_Active_Case  17613 non-null  int64 \n",
      "dtypes: int64(8), object(2)\n",
      "memory usage: 1.3+ MB\n"
     ]
    }
   ],
   "source": [
    "df.info()"
   ]
  },
  {
   "cell_type": "code",
   "execution_count": 83,
   "id": "08474044-cf83-4843-916d-8e864a890d85",
   "metadata": {},
   "outputs": [
    {
     "data": {
      "text/plain": [
       "Date                      0\n",
       "Province                  0\n",
       "Daily_Case                0\n",
       "Daily_Death               0\n",
       "Daily_Recovered           0\n",
       "Active_Case               0\n",
       "Cumulative_Case           0\n",
       "Cumulative_Recovered      0\n",
       "Cumulative_Death          0\n",
       "Cumulative_Active_Case    0\n",
       "dtype: int64"
      ]
     },
     "execution_count": 83,
     "metadata": {},
     "output_type": "execute_result"
    }
   ],
   "source": [
    "df.isna().sum()"
   ]
  },
  {
   "cell_type": "code",
   "execution_count": 84,
   "id": "250652fd-9875-493c-91e8-7b7d5a4187c3",
   "metadata": {},
   "outputs": [
    {
     "name": "stdout",
     "output_type": "stream",
     "text": [
      "panjang dataset 17613 baris\n"
     ]
    }
   ],
   "source": [
    "print(f'panjang dataset {len(df)} baris')"
   ]
  },
  {
   "cell_type": "markdown",
   "id": "f5ad5733-1ab3-4e67-9873-3deaa5dba033",
   "metadata": {},
   "source": [
    "# Melihat data csv 'data-jumlah-penduduk-berdasarkan-pendidikan-tahun-2021'"
   ]
  },
  {
   "cell_type": "code",
   "execution_count": 85,
   "id": "f67f13dd-0303-4eeb-8601-27bba974c883",
   "metadata": {},
   "outputs": [
    {
     "data": {
      "text/html": [
       "<div>\n",
       "<style scoped>\n",
       "    .dataframe tbody tr th:only-of-type {\n",
       "        vertical-align: middle;\n",
       "    }\n",
       "\n",
       "    .dataframe tbody tr th {\n",
       "        vertical-align: top;\n",
       "    }\n",
       "\n",
       "    .dataframe thead th {\n",
       "        text-align: right;\n",
       "    }\n",
       "</style>\n",
       "<table border=\"1\" class=\"dataframe\">\n",
       "  <thead>\n",
       "    <tr style=\"text-align: right;\">\n",
       "      <th></th>\n",
       "      <th>tahun</th>\n",
       "      <th>nama_provinsi</th>\n",
       "      <th>nama_kabupaten</th>\n",
       "      <th>nama_kecamatan</th>\n",
       "      <th>nama_kelurahan</th>\n",
       "      <th>pendidikan</th>\n",
       "      <th>jumlah</th>\n",
       "    </tr>\n",
       "  </thead>\n",
       "  <tbody>\n",
       "    <tr>\n",
       "      <th>0</th>\n",
       "      <td>2021</td>\n",
       "      <td>PROVINSI DKI JAKARTA</td>\n",
       "      <td>ADM. KEPULAUAN SERIBU</td>\n",
       "      <td>KEPULAUAN SERIBU UTARA</td>\n",
       "      <td>PULAU PANGGANG</td>\n",
       "      <td>Tidak/Belum Sekolah</td>\n",
       "      <td>124</td>\n",
       "    </tr>\n",
       "    <tr>\n",
       "      <th>1</th>\n",
       "      <td>2021</td>\n",
       "      <td>PROVINSI DKI JAKARTA</td>\n",
       "      <td>ADM. KEPULAUAN SERIBU</td>\n",
       "      <td>KEPULAUAN SERIBU UTARA</td>\n",
       "      <td>PULAU PANGGANG</td>\n",
       "      <td>Belum Tamat SD/Sederajat</td>\n",
       "      <td>747</td>\n",
       "    </tr>\n",
       "    <tr>\n",
       "      <th>2</th>\n",
       "      <td>2021</td>\n",
       "      <td>PROVINSI DKI JAKARTA</td>\n",
       "      <td>ADM. KEPULAUAN SERIBU</td>\n",
       "      <td>KEPULAUAN SERIBU UTARA</td>\n",
       "      <td>PULAU PANGGANG</td>\n",
       "      <td>Tamat SD/Sederajat</td>\n",
       "      <td>1238</td>\n",
       "    </tr>\n",
       "    <tr>\n",
       "      <th>3</th>\n",
       "      <td>2021</td>\n",
       "      <td>PROVINSI DKI JAKARTA</td>\n",
       "      <td>ADM. KEPULAUAN SERIBU</td>\n",
       "      <td>KEPULAUAN SERIBU UTARA</td>\n",
       "      <td>PULAU PANGGANG</td>\n",
       "      <td>SLTP/Sederajat</td>\n",
       "      <td>988</td>\n",
       "    </tr>\n",
       "    <tr>\n",
       "      <th>4</th>\n",
       "      <td>2021</td>\n",
       "      <td>PROVINSI DKI JAKARTA</td>\n",
       "      <td>ADM. KEPULAUAN SERIBU</td>\n",
       "      <td>KEPULAUAN SERIBU UTARA</td>\n",
       "      <td>PULAU PANGGANG</td>\n",
       "      <td>SLTA/Sederajat</td>\n",
       "      <td>2556</td>\n",
       "    </tr>\n",
       "  </tbody>\n",
       "</table>\n",
       "</div>"
      ],
      "text/plain": [
       "   tahun         nama_provinsi         nama_kabupaten          nama_kecamatan  \\\n",
       "0   2021  PROVINSI DKI JAKARTA  ADM. KEPULAUAN SERIBU  KEPULAUAN SERIBU UTARA   \n",
       "1   2021  PROVINSI DKI JAKARTA  ADM. KEPULAUAN SERIBU  KEPULAUAN SERIBU UTARA   \n",
       "2   2021  PROVINSI DKI JAKARTA  ADM. KEPULAUAN SERIBU  KEPULAUAN SERIBU UTARA   \n",
       "3   2021  PROVINSI DKI JAKARTA  ADM. KEPULAUAN SERIBU  KEPULAUAN SERIBU UTARA   \n",
       "4   2021  PROVINSI DKI JAKARTA  ADM. KEPULAUAN SERIBU  KEPULAUAN SERIBU UTARA   \n",
       "\n",
       "   nama_kelurahan                pendidikan  jumlah  \n",
       "0  PULAU PANGGANG       Tidak/Belum Sekolah     124  \n",
       "1  PULAU PANGGANG  Belum Tamat SD/Sederajat     747  \n",
       "2  PULAU PANGGANG        Tamat SD/Sederajat    1238  \n",
       "3  PULAU PANGGANG            SLTP/Sederajat     988  \n",
       "4  PULAU PANGGANG            SLTA/Sederajat    2556  "
      ]
     },
     "execution_count": 85,
     "metadata": {},
     "output_type": "execute_result"
    }
   ],
   "source": [
    "df2 = pd.read_csv('data-jumlah-penduduk-berdasarkan-pendidikan-tahun-2021.csv')\n",
    "df2.head()"
   ]
  },
  {
   "cell_type": "code",
   "execution_count": 86,
   "id": "679cad9e-c522-449e-8d6d-50983da91b4e",
   "metadata": {},
   "outputs": [
    {
     "name": "stdout",
     "output_type": "stream",
     "text": [
      "<class 'pandas.core.frame.DataFrame'>\n",
      "RangeIndex: 2666 entries, 0 to 2665\n",
      "Data columns (total 7 columns):\n",
      " #   Column          Non-Null Count  Dtype \n",
      "---  ------          --------------  ----- \n",
      " 0   tahun           2666 non-null   int64 \n",
      " 1   nama_provinsi   2666 non-null   object\n",
      " 2   nama_kabupaten  2666 non-null   object\n",
      " 3   nama_kecamatan  2666 non-null   object\n",
      " 4   nama_kelurahan  2666 non-null   object\n",
      " 5   pendidikan      2666 non-null   object\n",
      " 6   jumlah          2666 non-null   int64 \n",
      "dtypes: int64(2), object(5)\n",
      "memory usage: 145.9+ KB\n"
     ]
    }
   ],
   "source": [
    "df2.info()"
   ]
  },
  {
   "cell_type": "code",
   "execution_count": 87,
   "id": "725f6c51-c9b5-44c0-876e-ee2061212b6a",
   "metadata": {},
   "outputs": [
    {
     "data": {
      "text/plain": [
       "tahun             0\n",
       "nama_provinsi     0\n",
       "nama_kabupaten    0\n",
       "nama_kecamatan    0\n",
       "nama_kelurahan    0\n",
       "pendidikan        0\n",
       "jumlah            0\n",
       "dtype: int64"
      ]
     },
     "execution_count": 87,
     "metadata": {},
     "output_type": "execute_result"
    }
   ],
   "source": [
    "df2.isna().sum()"
   ]
  },
  {
   "cell_type": "code",
   "execution_count": 88,
   "id": "bcf1491f-0cfc-420d-9484-f640b8ef644f",
   "metadata": {},
   "outputs": [
    {
     "name": "stdout",
     "output_type": "stream",
     "text": [
      "panjang dataset 2666 baris\n"
     ]
    }
   ],
   "source": [
    "print(f'panjang dataset {len(df2)} baris')"
   ]
  },
  {
   "cell_type": "markdown",
   "id": "2daf6abd-5478-46ec-9925-e08b6033849e",
   "metadata": {},
   "source": [
    "# DATA CLEANING"
   ]
  },
  {
   "cell_type": "code",
   "execution_count": 89,
   "id": "42a6924b-da39-4b7d-bf05-298417707b7e",
   "metadata": {},
   "outputs": [],
   "source": [
    "dataset_ns = df.copy()\n",
    "dataset_ns2 = df2.copy()"
   ]
  },
  {
   "cell_type": "code",
   "execution_count": 90,
   "id": "3627ebcd-e319-4345-9034-0723145362d7",
   "metadata": {},
   "outputs": [],
   "source": [
    "imputer_mean = SimpleImputer(strategy='mean')\n",
    "imputer_median = SimpleImputer(strategy='median')\n",
    "imputer_modus = SimpleImputer(strategy='most_frequent')"
   ]
  },
  {
   "cell_type": "markdown",
   "id": "c68ce627-f5a6-4115-bdb9-4ecb13bdeb1a",
   "metadata": {},
   "source": [
    "# MODUS"
   ]
  },
  {
   "cell_type": "code",
   "execution_count": 91,
   "id": "7d7f7008-791e-4ea2-8191-84efdd7d7b69",
   "metadata": {},
   "outputs": [
    {
     "data": {
      "text/plain": [
       "tahun             0\n",
       "nama_provinsi     0\n",
       "nama_kabupaten    0\n",
       "nama_kecamatan    0\n",
       "nama_kelurahan    0\n",
       "pendidikan        0\n",
       "jumlah            0\n",
       "dtype: int64"
      ]
     },
     "execution_count": 91,
     "metadata": {},
     "output_type": "execute_result"
    }
   ],
   "source": [
    "dataset_ns2['jumlah'] = imputer_modus.fit_transform(dataset_ns2[['jumlah']])\n",
    "\n",
    "dataset_ns2.isna().sum()"
   ]
  },
  {
   "cell_type": "markdown",
   "id": "fb8c007a-f615-42f5-a0be-10ca799759f7",
   "metadata": {},
   "source": [
    "# MEAN"
   ]
  },
  {
   "cell_type": "code",
   "execution_count": 92,
   "id": "1941b3b3-0c73-4583-b2d8-e495564d1349",
   "metadata": {},
   "outputs": [
    {
     "data": {
      "text/plain": [
       "tahun             0\n",
       "nama_provinsi     0\n",
       "nama_kabupaten    0\n",
       "nama_kecamatan    0\n",
       "nama_kelurahan    0\n",
       "pendidikan        0\n",
       "jumlah            0\n",
       "dtype: int64"
      ]
     },
     "execution_count": 92,
     "metadata": {},
     "output_type": "execute_result"
    }
   ],
   "source": [
    "dataset_ns2['jumlah'] = imputer_mean.fit_transform(dataset_ns2[['jumlah']])\n",
    "\n",
    "dataset_ns2.isna().sum()"
   ]
  },
  {
   "cell_type": "markdown",
   "id": "365c6477-c0d9-4265-82c5-ed383aed650a",
   "metadata": {},
   "source": [
    "# Menghapus record/feature"
   ]
  },
  {
   "cell_type": "code",
   "execution_count": 93,
   "id": "03de53ff-3f45-4f5e-adf9-f371fd470c91",
   "metadata": {},
   "outputs": [
    {
     "data": {
      "text/plain": [
       "tahun             0\n",
       "nama_provinsi     0\n",
       "nama_kabupaten    0\n",
       "nama_kecamatan    0\n",
       "nama_kelurahan    0\n",
       "pendidikan        0\n",
       "jumlah            0\n",
       "dtype: int64"
      ]
     },
     "execution_count": 93,
     "metadata": {},
     "output_type": "execute_result"
    }
   ],
   "source": [
    "dataset_ns2.dropna(inplace=True)\n",
    "\n",
    "dataset_ns2.isna().sum()"
   ]
  },
  {
   "cell_type": "code",
   "execution_count": 94,
   "id": "9348441f-7d7f-495e-98e7-0d5b11075603",
   "metadata": {},
   "outputs": [
    {
     "data": {
      "text/plain": [
       "17613"
      ]
     },
     "execution_count": 94,
     "metadata": {},
     "output_type": "execute_result"
    }
   ],
   "source": [
    "len(dataset_ns)"
   ]
  },
  {
   "cell_type": "markdown",
   "id": "d5888862-9bd3-44d1-9b5a-914e7a6536b0",
   "metadata": {},
   "source": [
    "# DATA DUPLIKAT"
   ]
  },
  {
   "cell_type": "code",
   "execution_count": 95,
   "id": "fc7dc933-eb3d-476f-aae7-f3b990ae1239",
   "metadata": {},
   "outputs": [
    {
     "data": {
      "text/plain": [
       "0"
      ]
     },
     "execution_count": 95,
     "metadata": {},
     "output_type": "execute_result"
    }
   ],
   "source": [
    "dataset_duplicate = df.copy()\n",
    "\n",
    "dataset_duplicate.duplicated().sum()"
   ]
  },
  {
   "cell_type": "code",
   "execution_count": 96,
   "id": "10124fd5-30a4-4d51-86af-f093098b008d",
   "metadata": {},
   "outputs": [
    {
     "data": {
      "text/plain": [
       "0"
      ]
     },
     "execution_count": 96,
     "metadata": {},
     "output_type": "execute_result"
    }
   ],
   "source": [
    "dataset_duplicate.drop_duplicates(inplace=True)\n",
    "\n",
    "dataset_duplicate.duplicated().sum()"
   ]
  },
  {
   "cell_type": "markdown",
   "id": "c9c0396b-1759-4484-a38a-c2efddd375b4",
   "metadata": {},
   "source": [
    "# K-MEANS"
   ]
  },
  {
   "cell_type": "markdown",
   "id": "3899f60d-5f2b-4a4d-bc76-7ba4f189e3fa",
   "metadata": {},
   "source": [
    "Algoritma ini menemukan kelompok data dengan nilai squared error antara rata-rata empiris dari cluster dan point di cluster minimum. Algoritma ini termasuk dalam clustering dengan pendekatan partitional."
   ]
  },
  {
   "cell_type": "code",
   "execution_count": 97,
   "id": "6b65d062-c26b-4383-bfec-b9386e8fc87d",
   "metadata": {},
   "outputs": [
    {
     "data": {
      "text/html": [
       "<div>\n",
       "<style scoped>\n",
       "    .dataframe tbody tr th:only-of-type {\n",
       "        vertical-align: middle;\n",
       "    }\n",
       "\n",
       "    .dataframe tbody tr th {\n",
       "        vertical-align: top;\n",
       "    }\n",
       "\n",
       "    .dataframe thead th {\n",
       "        text-align: right;\n",
       "    }\n",
       "</style>\n",
       "<table border=\"1\" class=\"dataframe\">\n",
       "  <thead>\n",
       "    <tr style=\"text-align: right;\">\n",
       "      <th></th>\n",
       "      <th>Date</th>\n",
       "      <th>Province</th>\n",
       "      <th>Daily_Case</th>\n",
       "      <th>Daily_Death</th>\n",
       "      <th>Daily_Recovered</th>\n",
       "      <th>Active_Case</th>\n",
       "      <th>Cumulative_Case</th>\n",
       "      <th>Cumulative_Recovered</th>\n",
       "      <th>Cumulative_Death</th>\n",
       "      <th>Cumulative_Active_Case</th>\n",
       "    </tr>\n",
       "  </thead>\n",
       "  <tbody>\n",
       "    <tr>\n",
       "      <th>0</th>\n",
       "      <td>2020-03-01</td>\n",
       "      <td>DKI JAKARTA</td>\n",
       "      <td>2</td>\n",
       "      <td>0</td>\n",
       "      <td>0</td>\n",
       "      <td>2</td>\n",
       "      <td>2</td>\n",
       "      <td>0</td>\n",
       "      <td>0</td>\n",
       "      <td>2</td>\n",
       "    </tr>\n",
       "    <tr>\n",
       "      <th>1</th>\n",
       "      <td>2020-03-02</td>\n",
       "      <td>DKI JAKARTA</td>\n",
       "      <td>2</td>\n",
       "      <td>0</td>\n",
       "      <td>0</td>\n",
       "      <td>2</td>\n",
       "      <td>4</td>\n",
       "      <td>0</td>\n",
       "      <td>0</td>\n",
       "      <td>4</td>\n",
       "    </tr>\n",
       "    <tr>\n",
       "      <th>2</th>\n",
       "      <td>2020-03-03</td>\n",
       "      <td>DKI JAKARTA</td>\n",
       "      <td>2</td>\n",
       "      <td>0</td>\n",
       "      <td>0</td>\n",
       "      <td>2</td>\n",
       "      <td>6</td>\n",
       "      <td>0</td>\n",
       "      <td>0</td>\n",
       "      <td>6</td>\n",
       "    </tr>\n",
       "    <tr>\n",
       "      <th>3</th>\n",
       "      <td>2020-03-04</td>\n",
       "      <td>DKI JAKARTA</td>\n",
       "      <td>2</td>\n",
       "      <td>0</td>\n",
       "      <td>0</td>\n",
       "      <td>2</td>\n",
       "      <td>8</td>\n",
       "      <td>0</td>\n",
       "      <td>0</td>\n",
       "      <td>8</td>\n",
       "    </tr>\n",
       "    <tr>\n",
       "      <th>4</th>\n",
       "      <td>2020-03-05</td>\n",
       "      <td>DKI JAKARTA</td>\n",
       "      <td>0</td>\n",
       "      <td>1</td>\n",
       "      <td>0</td>\n",
       "      <td>-1</td>\n",
       "      <td>8</td>\n",
       "      <td>0</td>\n",
       "      <td>1</td>\n",
       "      <td>7</td>\n",
       "    </tr>\n",
       "  </tbody>\n",
       "</table>\n",
       "</div>"
      ],
      "text/plain": [
       "         Date     Province  Daily_Case  Daily_Death  Daily_Recovered  \\\n",
       "0  2020-03-01  DKI JAKARTA           2            0                0   \n",
       "1  2020-03-02  DKI JAKARTA           2            0                0   \n",
       "2  2020-03-03  DKI JAKARTA           2            0                0   \n",
       "3  2020-03-04  DKI JAKARTA           2            0                0   \n",
       "4  2020-03-05  DKI JAKARTA           0            1                0   \n",
       "\n",
       "   Active_Case  Cumulative_Case  Cumulative_Recovered  Cumulative_Death  \\\n",
       "0            2                2                     0                 0   \n",
       "1            2                4                     0                 0   \n",
       "2            2                6                     0                 0   \n",
       "3            2                8                     0                 0   \n",
       "4           -1                8                     0                 1   \n",
       "\n",
       "   Cumulative_Active_Case  \n",
       "0                       2  \n",
       "1                       4  \n",
       "2                       6  \n",
       "3                       8  \n",
       "4                       7  "
      ]
     },
     "execution_count": 97,
     "metadata": {},
     "output_type": "execute_result"
    }
   ],
   "source": [
    "dataset_ns.head()"
   ]
  },
  {
   "cell_type": "code",
   "execution_count": 98,
   "id": "575dc920-5161-485b-af17-379c9154787c",
   "metadata": {},
   "outputs": [],
   "source": [
    "model = KMeans(n_clusters=4)"
   ]
  },
  {
   "cell_type": "code",
   "execution_count": 99,
   "id": "a09e18b2-0b4b-4a69-a3a8-6fc4c7b96151",
   "metadata": {},
   "outputs": [],
   "source": [
    "point = dataset_ns[['Daily_Case','Daily_Death']]"
   ]
  },
  {
   "cell_type": "code",
   "execution_count": 100,
   "id": "b326ce44-51fd-4fb2-9c14-f59fc52aeda6",
   "metadata": {},
   "outputs": [
    {
     "data": {
      "text/html": [
       "<style>#sk-container-id-5 {color: black;background-color: white;}#sk-container-id-5 pre{padding: 0;}#sk-container-id-5 div.sk-toggleable {background-color: white;}#sk-container-id-5 label.sk-toggleable__label {cursor: pointer;display: block;width: 100%;margin-bottom: 0;padding: 0.3em;box-sizing: border-box;text-align: center;}#sk-container-id-5 label.sk-toggleable__label-arrow:before {content: \"▸\";float: left;margin-right: 0.25em;color: #696969;}#sk-container-id-5 label.sk-toggleable__label-arrow:hover:before {color: black;}#sk-container-id-5 div.sk-estimator:hover label.sk-toggleable__label-arrow:before {color: black;}#sk-container-id-5 div.sk-toggleable__content {max-height: 0;max-width: 0;overflow: hidden;text-align: left;background-color: #f0f8ff;}#sk-container-id-5 div.sk-toggleable__content pre {margin: 0.2em;color: black;border-radius: 0.25em;background-color: #f0f8ff;}#sk-container-id-5 input.sk-toggleable__control:checked~div.sk-toggleable__content {max-height: 200px;max-width: 100%;overflow: auto;}#sk-container-id-5 input.sk-toggleable__control:checked~label.sk-toggleable__label-arrow:before {content: \"▾\";}#sk-container-id-5 div.sk-estimator input.sk-toggleable__control:checked~label.sk-toggleable__label {background-color: #d4ebff;}#sk-container-id-5 div.sk-label input.sk-toggleable__control:checked~label.sk-toggleable__label {background-color: #d4ebff;}#sk-container-id-5 input.sk-hidden--visually {border: 0;clip: rect(1px 1px 1px 1px);clip: rect(1px, 1px, 1px, 1px);height: 1px;margin: -1px;overflow: hidden;padding: 0;position: absolute;width: 1px;}#sk-container-id-5 div.sk-estimator {font-family: monospace;background-color: #f0f8ff;border: 1px dotted black;border-radius: 0.25em;box-sizing: border-box;margin-bottom: 0.5em;}#sk-container-id-5 div.sk-estimator:hover {background-color: #d4ebff;}#sk-container-id-5 div.sk-parallel-item::after {content: \"\";width: 100%;border-bottom: 1px solid gray;flex-grow: 1;}#sk-container-id-5 div.sk-label:hover label.sk-toggleable__label {background-color: #d4ebff;}#sk-container-id-5 div.sk-serial::before {content: \"\";position: absolute;border-left: 1px solid gray;box-sizing: border-box;top: 0;bottom: 0;left: 50%;z-index: 0;}#sk-container-id-5 div.sk-serial {display: flex;flex-direction: column;align-items: center;background-color: white;padding-right: 0.2em;padding-left: 0.2em;position: relative;}#sk-container-id-5 div.sk-item {position: relative;z-index: 1;}#sk-container-id-5 div.sk-parallel {display: flex;align-items: stretch;justify-content: center;background-color: white;position: relative;}#sk-container-id-5 div.sk-item::before, #sk-container-id-5 div.sk-parallel-item::before {content: \"\";position: absolute;border-left: 1px solid gray;box-sizing: border-box;top: 0;bottom: 0;left: 50%;z-index: -1;}#sk-container-id-5 div.sk-parallel-item {display: flex;flex-direction: column;z-index: 1;position: relative;background-color: white;}#sk-container-id-5 div.sk-parallel-item:first-child::after {align-self: flex-end;width: 50%;}#sk-container-id-5 div.sk-parallel-item:last-child::after {align-self: flex-start;width: 50%;}#sk-container-id-5 div.sk-parallel-item:only-child::after {width: 0;}#sk-container-id-5 div.sk-dashed-wrapped {border: 1px dashed gray;margin: 0 0.4em 0.5em 0.4em;box-sizing: border-box;padding-bottom: 0.4em;background-color: white;}#sk-container-id-5 div.sk-label label {font-family: monospace;font-weight: bold;display: inline-block;line-height: 1.2em;}#sk-container-id-5 div.sk-label-container {text-align: center;}#sk-container-id-5 div.sk-container {/* jupyter's `normalize.less` sets `[hidden] { display: none; }` but bootstrap.min.css set `[hidden] { display: none !important; }` so we also need the `!important` here to be able to override the default hidden behavior on the sphinx rendered scikit-learn.org. See: https://github.com/scikit-learn/scikit-learn/issues/21755 */display: inline-block !important;position: relative;}#sk-container-id-5 div.sk-text-repr-fallback {display: none;}</style><div id=\"sk-container-id-5\" class=\"sk-top-container\"><div class=\"sk-text-repr-fallback\"><pre>KMeans(n_clusters=4)</pre><b>In a Jupyter environment, please rerun this cell to show the HTML representation or trust the notebook. <br />On GitHub, the HTML representation is unable to render, please try loading this page with nbviewer.org.</b></div><div class=\"sk-container\" hidden><div class=\"sk-item\"><div class=\"sk-estimator sk-toggleable\"><input class=\"sk-toggleable__control sk-hidden--visually\" id=\"sk-estimator-id-5\" type=\"checkbox\" checked><label for=\"sk-estimator-id-5\" class=\"sk-toggleable__label sk-toggleable__label-arrow\">KMeans</label><div class=\"sk-toggleable__content\"><pre>KMeans(n_clusters=4)</pre></div></div></div></div></div>"
      ],
      "text/plain": [
       "KMeans(n_clusters=4)"
      ]
     },
     "execution_count": 100,
     "metadata": {},
     "output_type": "execute_result"
    }
   ],
   "source": [
    "model.fit(point)"
   ]
  },
  {
   "cell_type": "code",
   "execution_count": 101,
   "id": "eb267941-2781-438e-8e70-46516e64370e",
   "metadata": {},
   "outputs": [],
   "source": [
    "label = model.labels_"
   ]
  },
  {
   "cell_type": "code",
   "execution_count": 102,
   "id": "a4e40a76-f1eb-4932-b53a-4bff6a617c29",
   "metadata": {},
   "outputs": [
    {
     "data": {
      "text/plain": [
       "array([0, 0, 0, ..., 0, 2, 0])"
      ]
     },
     "execution_count": 102,
     "metadata": {},
     "output_type": "execute_result"
    }
   ],
   "source": [
    "label"
   ]
  },
  {
   "cell_type": "code",
   "execution_count": 103,
   "id": "c41bb284-fac6-45cb-a45c-c43bd96bbe68",
   "metadata": {},
   "outputs": [],
   "source": [
    "X = point['Daily_Case']\n",
    "Y = point['Daily_Death']"
   ]
  },
  {
   "cell_type": "code",
   "execution_count": 104,
   "id": "6b12903f-ca36-4405-89f6-7dea0f913ee6",
   "metadata": {},
   "outputs": [],
   "source": [
    "centroid = model.cluster_centers_"
   ]
  },
  {
   "cell_type": "code",
   "execution_count": 105,
   "id": "878906a4-a41b-46a3-918a-424a9b3a5694",
   "metadata": {},
   "outputs": [
    {
     "data": {
      "text/plain": [
       "array([[7.82900540e+01, 2.67664782e+00],\n",
       "       [3.75596651e+03, 1.56143541e+02],\n",
       "       [1.07414091e+03, 2.96717374e+01],\n",
       "       [8.98925862e+03, 1.41758621e+02]])"
      ]
     },
     "execution_count": 105,
     "metadata": {},
     "output_type": "execute_result"
    }
   ],
   "source": [
    "centroid"
   ]
  },
  {
   "cell_type": "code",
   "execution_count": 106,
   "id": "24ab9408-44ff-45f4-8e07-e06043736bd7",
   "metadata": {},
   "outputs": [],
   "source": [
    "centroid_X = centroid[:,0]\n",
    "centroid_Y = centroid[:,1]"
   ]
  },
  {
   "cell_type": "code",
   "execution_count": 107,
   "id": "ce445758-2413-477d-9182-bebfab57c943",
   "metadata": {},
   "outputs": [
    {
     "data": {
      "image/png": "[encoded data removed]",
      "text/plain": [
       "<Figure size 500x500 with 1 Axes>"
      ]
     },
     "metadata": {},
     "output_type": "display_data"
    }
   ],
   "source": [
    "plt.figure(figsize=(5,5))\n",
    "plt.scatter(X, Y, alpha=0.5, c=label)\n",
    "plt.scatter(centroid_X, centroid_Y, marker='D', s=50, label='centroid')\n",
    "plt.xlabel('Runtime')\n",
    "plt.ylabel('Vote Average')\n",
    "plt.legend()\n",
    "plt.show()"
   ]
  },
  {
   "cell_type": "code",
   "execution_count": 108,
   "id": "d517cd59-2d4d-4aeb-9b77-c36def98dfdb",
   "metadata": {},
   "outputs": [],
   "source": [
    "cluster_range = range(1,6)\n",
    "inertias = []\n",
    "\n",
    "for k in cluster_range:\n",
    "    model = KMeans(n_clusters=k)\n",
    "    model.fit(point)\n",
    "    inertias.append(model.inertia_)"
   ]
  },
  {
   "cell_type": "code",
   "execution_count": 109,
   "id": "0e93fda6-370d-4788-8a5d-14191ebb45b1",
   "metadata": {},
   "outputs": [
    {
     "data": {
      "image/png": "[encoded data removed]",
      "text/plain": [
       "<Figure size 500x500 with 1 Axes>"
      ]
     },
     "metadata": {},
     "output_type": "display_data"
    }
   ],
   "source": [
    "plt.figure(figsize=(5,5))\n",
    "plt.plot(cluster_range, inertias, '-o')\n",
    "plt.xlabel('Cluster ke-')\n",
    "plt.ylabel('Inertia/Sum Square Error')\n",
    "plt.xticks(cluster_range)\n",
    "plt.show()"
   ]
  }
 ],
 "metadata": {
  "kernelspec": {
   "display_name": "Python 3 (ipykernel)",
   "language": "python",
   "name": "python3"
  },
  "language_info": {
   "codemirror_mode": {
    "name": "ipython",
    "version": 3
   },
   "file_extension": ".py",
   "mimetype": "text/x-python",
   "name": "python",
   "nbconvert_exporter": "python",
   "pygments_lexer": "ipython3",
   "version": "3.10.7"
  }
 },
 "nbformat": 4,
 "nbformat_minor": 5
}
