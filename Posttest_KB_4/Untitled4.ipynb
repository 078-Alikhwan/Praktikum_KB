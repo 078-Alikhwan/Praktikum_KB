{
 "cells": [
  {
   "cell_type": "code",
   "execution_count": 1,
   "id": "4fbe4fab-c296-4a0c-b3f7-3c0cd87db515",
   "metadata": {},
   "outputs": [],
   "source": [
    "import matplotlib.pyplot as plt\n",
    "import seaborn as sns\n",
    "import pandas as pd\n",
    "import numpy as np\n",
    "\n",
    "# untuk Data Split\n",
    "from sklearn.model_selection import train_test_split #testing dan training data\n",
    "# untuk Data Transforming\n",
    "from sklearn.preprocessing import StandardScaler #standarisasi\n",
    "from sklearn.preprocessing import MinMaxScaler #normalisasi\n",
    "# untuk Data Cleaning\n",
    "from sklearn.impute import SimpleImputer #subtitusi nilai\n",
    "# untuk Data Encoding\n",
    "from sklearn.preprocessing import OrdinalEncoder #encoder\n",
    "from sklearn.preprocessing import OneHotEncoder #onehot"
   ]
  },
  {
   "cell_type": "code",
   "execution_count": 2,
   "id": "735edb3a-aba6-4683-a17d-49ac9d996cb4",
   "metadata": {},
   "outputs": [
    {
     "data": {
      "text/html": [
       "<div>\n",
       "<style scoped>\n",
       "    .dataframe tbody tr th:only-of-type {\n",
       "        vertical-align: middle;\n",
       "    }\n",
       "\n",
       "    .dataframe tbody tr th {\n",
       "        vertical-align: top;\n",
       "    }\n",
       "\n",
       "    .dataframe thead th {\n",
       "        text-align: right;\n",
       "    }\n",
       "</style>\n",
       "<table border=\"1\" class=\"dataframe\">\n",
       "  <thead>\n",
       "    <tr style=\"text-align: right;\">\n",
       "      <th></th>\n",
       "      <th>Date</th>\n",
       "      <th>Province</th>\n",
       "      <th>Daily_Case</th>\n",
       "      <th>Daily_Death</th>\n",
       "      <th>Daily_Recovered</th>\n",
       "      <th>Active_Case</th>\n",
       "      <th>Cumulative_Case</th>\n",
       "      <th>Cumulative_Recovered</th>\n",
       "      <th>Cumulative_Death</th>\n",
       "      <th>Cumulative_Active_Case</th>\n",
       "    </tr>\n",
       "  </thead>\n",
       "  <tbody>\n",
       "    <tr>\n",
       "      <th>0</th>\n",
       "      <td>2020-03-01</td>\n",
       "      <td>DKI JAKARTA</td>\n",
       "      <td>2</td>\n",
       "      <td>0</td>\n",
       "      <td>0</td>\n",
       "      <td>2</td>\n",
       "      <td>2</td>\n",
       "      <td>0</td>\n",
       "      <td>0</td>\n",
       "      <td>2</td>\n",
       "    </tr>\n",
       "    <tr>\n",
       "      <th>1</th>\n",
       "      <td>2020-03-02</td>\n",
       "      <td>DKI JAKARTA</td>\n",
       "      <td>2</td>\n",
       "      <td>0</td>\n",
       "      <td>0</td>\n",
       "      <td>2</td>\n",
       "      <td>4</td>\n",
       "      <td>0</td>\n",
       "      <td>0</td>\n",
       "      <td>4</td>\n",
       "    </tr>\n",
       "    <tr>\n",
       "      <th>2</th>\n",
       "      <td>2020-03-03</td>\n",
       "      <td>DKI JAKARTA</td>\n",
       "      <td>2</td>\n",
       "      <td>0</td>\n",
       "      <td>0</td>\n",
       "      <td>2</td>\n",
       "      <td>6</td>\n",
       "      <td>0</td>\n",
       "      <td>0</td>\n",
       "      <td>6</td>\n",
       "    </tr>\n",
       "    <tr>\n",
       "      <th>3</th>\n",
       "      <td>2020-03-04</td>\n",
       "      <td>DKI JAKARTA</td>\n",
       "      <td>2</td>\n",
       "      <td>0</td>\n",
       "      <td>0</td>\n",
       "      <td>2</td>\n",
       "      <td>8</td>\n",
       "      <td>0</td>\n",
       "      <td>0</td>\n",
       "      <td>8</td>\n",
       "    </tr>\n",
       "    <tr>\n",
       "      <th>4</th>\n",
       "      <td>2020-03-05</td>\n",
       "      <td>DKI JAKARTA</td>\n",
       "      <td>0</td>\n",
       "      <td>1</td>\n",
       "      <td>0</td>\n",
       "      <td>-1</td>\n",
       "      <td>8</td>\n",
       "      <td>0</td>\n",
       "      <td>1</td>\n",
       "      <td>7</td>\n",
       "    </tr>\n",
       "  </tbody>\n",
       "</table>\n",
       "</div>"
      ],
      "text/plain": [
       "         Date     Province  Daily_Case  Daily_Death  Daily_Recovered  \\\n",
       "0  2020-03-01  DKI JAKARTA           2            0                0   \n",
       "1  2020-03-02  DKI JAKARTA           2            0                0   \n",
       "2  2020-03-03  DKI JAKARTA           2            0                0   \n",
       "3  2020-03-04  DKI JAKARTA           2            0                0   \n",
       "4  2020-03-05  DKI JAKARTA           0            1                0   \n",
       "\n",
       "   Active_Case  Cumulative_Case  Cumulative_Recovered  Cumulative_Death  \\\n",
       "0            2                2                     0                 0   \n",
       "1            2                4                     0                 0   \n",
       "2            2                6                     0                 0   \n",
       "3            2                8                     0                 0   \n",
       "4           -1                8                     0                 1   \n",
       "\n",
       "   Cumulative_Active_Case  \n",
       "0                       2  \n",
       "1                       4  \n",
       "2                       6  \n",
       "3                       8  \n",
       "4                       7  "
      ]
     },
     "execution_count": 2,
     "metadata": {},
     "output_type": "execute_result"
    }
   ],
   "source": [
    "df = pd.read_csv('Indonesia_coronavirus_daily_data.csv')\n",
    "df.head()"
   ]
  },
  {
   "cell_type": "code",
   "execution_count": 3,
   "id": "f701ded0-6b51-4a19-866c-8806036361cd",
   "metadata": {},
   "outputs": [
    {
     "name": "stdout",
     "output_type": "stream",
     "text": [
      "<class 'pandas.core.frame.DataFrame'>\n",
      "RangeIndex: 17613 entries, 0 to 17612\n",
      "Data columns (total 10 columns):\n",
      " #   Column                  Non-Null Count  Dtype \n",
      "---  ------                  --------------  ----- \n",
      " 0   Date                    17613 non-null  object\n",
      " 1   Province                17613 non-null  object\n",
      " 2   Daily_Case              17613 non-null  int64 \n",
      " 3   Daily_Death             17613 non-null  int64 \n",
      " 4   Daily_Recovered         17613 non-null  int64 \n",
      " 5   Active_Case             17613 non-null  int64 \n",
      " 6   Cumulative_Case         17613 non-null  int64 \n",
      " 7   Cumulative_Recovered    17613 non-null  int64 \n",
      " 8   Cumulative_Death        17613 non-null  int64 \n",
      " 9   Cumulative_Active_Case  17613 non-null  int64 \n",
      "dtypes: int64(8), object(2)\n",
      "memory usage: 1.3+ MB\n"
     ]
    }
   ],
   "source": [
    "df.info()"
   ]
  },
  {
   "cell_type": "code",
   "execution_count": 4,
   "id": "08474044-cf83-4843-916d-8e864a890d85",
   "metadata": {},
   "outputs": [
    {
     "data": {
      "text/plain": [
       "Date                      0\n",
       "Province                  0\n",
       "Daily_Case                0\n",
       "Daily_Death               0\n",
       "Daily_Recovered           0\n",
       "Active_Case               0\n",
       "Cumulative_Case           0\n",
       "Cumulative_Recovered      0\n",
       "Cumulative_Death          0\n",
       "Cumulative_Active_Case    0\n",
       "dtype: int64"
      ]
     },
     "execution_count": 4,
     "metadata": {},
     "output_type": "execute_result"
    }
   ],
   "source": [
    "df.isna().sum()"
   ]
  },
  {
   "cell_type": "code",
   "execution_count": 5,
   "id": "250652fd-9875-493c-91e8-7b7d5a4187c3",
   "metadata": {},
   "outputs": [
    {
     "name": "stdout",
     "output_type": "stream",
     "text": [
      "panjang dataset 17613 baris\n"
     ]
    }
   ],
   "source": [
    "print(f'panjang dataset {len(df)} baris')"
   ]
  },
  {
   "cell_type": "code",
   "execution_count": 51,
   "id": "f67f13dd-0303-4eeb-8601-27bba974c883",
   "metadata": {},
   "outputs": [
    {
     "data": {
      "text/html": [
       "<div>\n",
       "<style scoped>\n",
       "    .dataframe tbody tr th:only-of-type {\n",
       "        vertical-align: middle;\n",
       "    }\n",
       "\n",
       "    .dataframe tbody tr th {\n",
       "        vertical-align: top;\n",
       "    }\n",
       "\n",
       "    .dataframe thead th {\n",
       "        text-align: right;\n",
       "    }\n",
       "</style>\n",
       "<table border=\"1\" class=\"dataframe\">\n",
       "  <thead>\n",
       "    <tr style=\"text-align: right;\">\n",
       "      <th></th>\n",
       "      <th>tahun</th>\n",
       "      <th>nama_provinsi</th>\n",
       "      <th>nama_kabupaten</th>\n",
       "      <th>nama_kecamatan</th>\n",
       "      <th>nama_kelurahan</th>\n",
       "      <th>pendidikan</th>\n",
       "      <th>jumlah</th>\n",
       "    </tr>\n",
       "  </thead>\n",
       "  <tbody>\n",
       "    <tr>\n",
       "      <th>0</th>\n",
       "      <td>2021</td>\n",
       "      <td>PROVINSI DKI JAKARTA</td>\n",
       "      <td>ADM. KEPULAUAN SERIBU</td>\n",
       "      <td>KEPULAUAN SERIBU UTARA</td>\n",
       "      <td>PULAU PANGGANG</td>\n",
       "      <td>Tidak/Belum Sekolah</td>\n",
       "      <td>124</td>\n",
       "    </tr>\n",
       "    <tr>\n",
       "      <th>1</th>\n",
       "      <td>2021</td>\n",
       "      <td>PROVINSI DKI JAKARTA</td>\n",
       "      <td>ADM. KEPULAUAN SERIBU</td>\n",
       "      <td>KEPULAUAN SERIBU UTARA</td>\n",
       "      <td>PULAU PANGGANG</td>\n",
       "      <td>Belum Tamat SD/Sederajat</td>\n",
       "      <td>747</td>\n",
       "    </tr>\n",
       "    <tr>\n",
       "      <th>2</th>\n",
       "      <td>2021</td>\n",
       "      <td>PROVINSI DKI JAKARTA</td>\n",
       "      <td>ADM. KEPULAUAN SERIBU</td>\n",
       "      <td>KEPULAUAN SERIBU UTARA</td>\n",
       "      <td>PULAU PANGGANG</td>\n",
       "      <td>Tamat SD/Sederajat</td>\n",
       "      <td>1238</td>\n",
       "    </tr>\n",
       "    <tr>\n",
       "      <th>3</th>\n",
       "      <td>2021</td>\n",
       "      <td>PROVINSI DKI JAKARTA</td>\n",
       "      <td>ADM. KEPULAUAN SERIBU</td>\n",
       "      <td>KEPULAUAN SERIBU UTARA</td>\n",
       "      <td>PULAU PANGGANG</td>\n",
       "      <td>SLTP/Sederajat</td>\n",
       "      <td>988</td>\n",
       "    </tr>\n",
       "    <tr>\n",
       "      <th>4</th>\n",
       "      <td>2021</td>\n",
       "      <td>PROVINSI DKI JAKARTA</td>\n",
       "      <td>ADM. KEPULAUAN SERIBU</td>\n",
       "      <td>KEPULAUAN SERIBU UTARA</td>\n",
       "      <td>PULAU PANGGANG</td>\n",
       "      <td>SLTA/Sederajat</td>\n",
       "      <td>2556</td>\n",
       "    </tr>\n",
       "  </tbody>\n",
       "</table>\n",
       "</div>"
      ],
      "text/plain": [
       "   tahun         nama_provinsi         nama_kabupaten          nama_kecamatan  \\\n",
       "0   2021  PROVINSI DKI JAKARTA  ADM. KEPULAUAN SERIBU  KEPULAUAN SERIBU UTARA   \n",
       "1   2021  PROVINSI DKI JAKARTA  ADM. KEPULAUAN SERIBU  KEPULAUAN SERIBU UTARA   \n",
       "2   2021  PROVINSI DKI JAKARTA  ADM. KEPULAUAN SERIBU  KEPULAUAN SERIBU UTARA   \n",
       "3   2021  PROVINSI DKI JAKARTA  ADM. KEPULAUAN SERIBU  KEPULAUAN SERIBU UTARA   \n",
       "4   2021  PROVINSI DKI JAKARTA  ADM. KEPULAUAN SERIBU  KEPULAUAN SERIBU UTARA   \n",
       "\n",
       "   nama_kelurahan                pendidikan  jumlah  \n",
       "0  PULAU PANGGANG       Tidak/Belum Sekolah     124  \n",
       "1  PULAU PANGGANG  Belum Tamat SD/Sederajat     747  \n",
       "2  PULAU PANGGANG        Tamat SD/Sederajat    1238  \n",
       "3  PULAU PANGGANG            SLTP/Sederajat     988  \n",
       "4  PULAU PANGGANG            SLTA/Sederajat    2556  "
      ]
     },
     "execution_count": 51,
     "metadata": {},
     "output_type": "execute_result"
    }
   ],
   "source": [
    "df2 = pd.read_csv('data-jumlah-penduduk-berdasarkan-pendidikan-tahun-2021.csv')\n",
    "df2.head()"
   ]
  },
  {
   "cell_type": "code",
   "execution_count": 52,
   "id": "679cad9e-c522-449e-8d6d-50983da91b4e",
   "metadata": {},
   "outputs": [
    {
     "name": "stdout",
     "output_type": "stream",
     "text": [
      "<class 'pandas.core.frame.DataFrame'>\n",
      "RangeIndex: 2666 entries, 0 to 2665\n",
      "Data columns (total 7 columns):\n",
      " #   Column          Non-Null Count  Dtype \n",
      "---  ------          --------------  ----- \n",
      " 0   tahun           2666 non-null   int64 \n",
      " 1   nama_provinsi   2666 non-null   object\n",
      " 2   nama_kabupaten  2666 non-null   object\n",
      " 3   nama_kecamatan  2666 non-null   object\n",
      " 4   nama_kelurahan  2666 non-null   object\n",
      " 5   pendidikan      2666 non-null   object\n",
      " 6   jumlah          2666 non-null   int64 \n",
      "dtypes: int64(2), object(5)\n",
      "memory usage: 145.9+ KB\n"
     ]
    }
   ],
   "source": [
    "df2.info()"
   ]
  },
  {
   "cell_type": "code",
   "execution_count": 53,
   "id": "725f6c51-c9b5-44c0-876e-ee2061212b6a",
   "metadata": {},
   "outputs": [
    {
     "data": {
      "text/plain": [
       "tahun             0\n",
       "nama_provinsi     0\n",
       "nama_kabupaten    0\n",
       "nama_kecamatan    0\n",
       "nama_kelurahan    0\n",
       "pendidikan        0\n",
       "jumlah            0\n",
       "dtype: int64"
      ]
     },
     "execution_count": 53,
     "metadata": {},
     "output_type": "execute_result"
    }
   ],
   "source": [
    "df2.isna().sum()"
   ]
  },
  {
   "cell_type": "code",
   "execution_count": 54,
   "id": "bcf1491f-0cfc-420d-9484-f640b8ef644f",
   "metadata": {},
   "outputs": [
    {
     "name": "stdout",
     "output_type": "stream",
     "text": [
      "panjang dataset 2666 baris\n"
     ]
    }
   ],
   "source": [
    "print(f'panjang dataset {len(df2)} baris')"
   ]
  },
  {
   "cell_type": "code",
   "execution_count": 7,
   "id": "e94fe259-86fc-42c5-84e2-564469e13100",
   "metadata": {},
   "outputs": [],
   "source": [
    "data = df[['Province']]\n",
    "label = df['Daily_Case']\n",
    "\n",
    "data_train, data_test, label_train, label_test = train_test_split(data, label, test_size=.3)"
   ]
  },
  {
   "cell_type": "code",
   "execution_count": 8,
   "id": "14782df3-149c-4206-b658-e8ebac0c72bf",
   "metadata": {},
   "outputs": [
    {
     "name": "stdout",
     "output_type": "stream",
     "text": [
      "panjang data training 12329\n",
      "panjang label training 12329\n",
      "panjang data testing 5284\n",
      "panjang label testing 5284\n"
     ]
    }
   ],
   "source": [
    "print(f'panjang data training {len(data_train)}',\n",
    "     f'panjang label training {len(label_train)}',\n",
    "     f'panjang data testing {len(data_test)}',\n",
    "     f'panjang label testing {len(label_test)}',\n",
    "     sep='\\n')"
   ]
  },
  {
   "cell_type": "code",
   "execution_count": 9,
   "id": "d9c87235-14e5-4b74-9efb-a4976db3672d",
   "metadata": {},
   "outputs": [],
   "source": [
    "dataset_normalisasi = df.copy()\n",
    "dataset_standarirasi = df.copy()"
   ]
  },
  {
   "cell_type": "code",
   "execution_count": 15,
   "id": "e088d637-9707-4b32-ada8-38fb0b09372d",
   "metadata": {},
   "outputs": [
    {
     "data": {
      "text/html": [
       "<div>\n",
       "<style scoped>\n",
       "    .dataframe tbody tr th:only-of-type {\n",
       "        vertical-align: middle;\n",
       "    }\n",
       "\n",
       "    .dataframe tbody tr th {\n",
       "        vertical-align: top;\n",
       "    }\n",
       "\n",
       "    .dataframe thead th {\n",
       "        text-align: right;\n",
       "    }\n",
       "</style>\n",
       "<table border=\"1\" class=\"dataframe\">\n",
       "  <thead>\n",
       "    <tr style=\"text-align: right;\">\n",
       "      <th></th>\n",
       "      <th>Daily_Case</th>\n",
       "      <th>Daily_Death</th>\n",
       "      <th>Active_Case</th>\n",
       "    </tr>\n",
       "  </thead>\n",
       "  <tbody>\n",
       "    <tr>\n",
       "      <th>0</th>\n",
       "      <td>0.000137</td>\n",
       "      <td>0.000000</td>\n",
       "      <td>0.635439</td>\n",
       "    </tr>\n",
       "    <tr>\n",
       "      <th>1</th>\n",
       "      <td>0.000137</td>\n",
       "      <td>0.000000</td>\n",
       "      <td>0.635439</td>\n",
       "    </tr>\n",
       "    <tr>\n",
       "      <th>2</th>\n",
       "      <td>0.000137</td>\n",
       "      <td>0.000000</td>\n",
       "      <td>0.635439</td>\n",
       "    </tr>\n",
       "    <tr>\n",
       "      <th>3</th>\n",
       "      <td>0.000137</td>\n",
       "      <td>0.000000</td>\n",
       "      <td>0.635439</td>\n",
       "    </tr>\n",
       "    <tr>\n",
       "      <th>4</th>\n",
       "      <td>0.000000</td>\n",
       "      <td>0.001838</td>\n",
       "      <td>0.635325</td>\n",
       "    </tr>\n",
       "  </tbody>\n",
       "</table>\n",
       "</div>"
      ],
      "text/plain": [
       "   Daily_Case  Daily_Death  Active_Case\n",
       "0    0.000137     0.000000     0.635439\n",
       "1    0.000137     0.000000     0.635439\n",
       "2    0.000137     0.000000     0.635439\n",
       "3    0.000137     0.000000     0.635439\n",
       "4    0.000000     0.001838     0.635325"
      ]
     },
     "execution_count": 15,
     "metadata": {},
     "output_type": "execute_result"
    }
   ],
   "source": [
    "scaler = MinMaxScaler()\n",
    "\n",
    "normalize_dataset = scaler.fit_transform(dataset_normalisasi[['Daily_Case', 'Daily_Death', 'Active_Case']])\n",
    "\n",
    "normalize_dataset = pd.DataFrame(normalize_dataset)\n",
    "normalize_dataset.rename(columns={ 0 :'Daily_Case', 1 : 'Daily_Death', 2 : 'Active_Case'}, inplace=True)\n",
    "\n",
    "normalize_dataset.head(5)"
   ]
  },
  {
   "cell_type": "code",
   "execution_count": 19,
   "id": "e06eba7b-8242-4d08-bdc2-1906104483c2",
   "metadata": {},
   "outputs": [],
   "source": [
    "ss = StandardScaler()\n",
    "Scaled_data = ss.fit_transform(df[['Daily_Case', 'Daily_Death', 'Active_Case']])"
   ]
  },
  {
   "cell_type": "code",
   "execution_count": 20,
   "id": "f883f699-897a-4eda-ab16-518bd20d2e7c",
   "metadata": {},
   "outputs": [
    {
     "name": "stdout",
     "output_type": "stream",
     "text": [
      "Nilai Sebelum Standarisasi : \n",
      "Standar Deviasi :  Daily_Case                  721.850618\n",
      "Daily_Death                  27.145808\n",
      "Daily_Recovered             736.070970\n",
      "Active_Case                 458.883245\n",
      "Cumulative_Case           73649.460205\n",
      "Cumulative_Recovered      65491.589418\n",
      "Cumulative_Death           2129.428140\n",
      "Cumulative_Active_Case     8872.491951\n",
      "dtype: float64\n"
     ]
    },
    {
     "name": "stderr",
     "output_type": "stream",
     "text": [
      "C:\\Users\\ACER\\AppData\\Local\\Programs\\Python\\Python310\\lib\\site-packages\\numpy\\core\\fromnumeric.py:3571: FutureWarning: The default value of numeric_only in DataFrame.std is deprecated. In a future version, it will default to False. In addition, specifying 'numeric_only=None' is deprecated. Select only valid columns or specify the value of numeric_only to silence this warning.\n",
      "  return std(axis=axis, dtype=dtype, out=out, ddof=ddof, **kwargs)\n"
     ]
    }
   ],
   "source": [
    "print(\"Nilai Sebelum Standarisasi : \")\n",
    "print(\"Standar Deviasi : \", np.std(df))"
   ]
  },
  {
   "cell_type": "code",
   "execution_count": 115,
   "id": "42a6924b-da39-4b7d-bf05-298417707b7e",
   "metadata": {},
   "outputs": [],
   "source": [
    "dataset_ns = df.copy()\n",
    "dataset_ns2 = df2.copy()"
   ]
  },
  {
   "cell_type": "code",
   "execution_count": 116,
   "id": "3627ebcd-e319-4345-9034-0723145362d7",
   "metadata": {},
   "outputs": [],
   "source": [
    "imputer_mean = SimpleImputer(strategy='mean')\n",
    "imputer_median = SimpleImputer(strategy='median')\n",
    "imputer_modus = SimpleImputer(strategy='most_frequent')"
   ]
  },
  {
   "cell_type": "code",
   "execution_count": 117,
   "id": "7d7f7008-791e-4ea2-8191-84efdd7d7b69",
   "metadata": {},
   "outputs": [
    {
     "data": {
      "text/plain": [
       "tahun             0\n",
       "nama_provinsi     0\n",
       "nama_kabupaten    0\n",
       "nama_kecamatan    0\n",
       "nama_kelurahan    0\n",
       "pendidikan        0\n",
       "jumlah            0\n",
       "dtype: int64"
      ]
     },
     "execution_count": 117,
     "metadata": {},
     "output_type": "execute_result"
    }
   ],
   "source": [
    "dataset_ns2['pendidikan'] = imputer_modus.fit_transform(dataset_ns[['pendidikan']])\n",
    "\n",
    "dataset_ns2.isna().sum()"
   ]
  },
  {
   "cell_type": "code",
   "execution_count": 118,
   "id": "1941b3b3-0c73-4583-b2d8-e495564d1349",
   "metadata": {},
   "outputs": [
    {
     "data": {
      "text/plain": [
       "tahun             0\n",
       "nama_provinsi     0\n",
       "nama_kabupaten    0\n",
       "nama_kecamatan    0\n",
       "nama_kelurahan    0\n",
       "pendidikan        0\n",
       "jumlah            0\n",
       "dtype: int64"
      ]
     },
     "execution_count": 118,
     "metadata": {},
     "output_type": "execute_result"
    }
   ],
   "source": [
    "dataset_ns2['jumlah'] = imputer_mean.fit_transform(dataset_ns2[['jumlah']])\n",
    "\n",
    "dataset_ns2.isna().sum()"
   ]
  },
  {
   "cell_type": "code",
   "execution_count": 119,
   "id": "03de53ff-3f45-4f5e-adf9-f371fd470c91",
   "metadata": {},
   "outputs": [
    {
     "data": {
      "text/plain": [
       "tahun             0\n",
       "nama_provinsi     0\n",
       "nama_kabupaten    0\n",
       "nama_kecamatan    0\n",
       "nama_kelurahan    0\n",
       "pendidikan        0\n",
       "jumlah            0\n",
       "dtype: int64"
      ]
     },
     "execution_count": 119,
     "metadata": {},
     "output_type": "execute_result"
    }
   ],
   "source": [
    "dataset_ns2.dropna(inplace=True)\n",
    "\n",
    "dataset_ns2.isna().sum()"
   ]
  },
  {
   "cell_type": "code",
   "execution_count": 120,
   "id": "9348441f-7d7f-495e-98e7-0d5b11075603",
   "metadata": {},
   "outputs": [
    {
     "data": {
      "text/plain": [
       "2666"
      ]
     },
     "execution_count": 120,
     "metadata": {},
     "output_type": "execute_result"
    }
   ],
   "source": [
    "len(dataset_ns)"
   ]
  },
  {
   "cell_type": "code",
   "execution_count": 121,
   "id": "fc7dc933-eb3d-476f-aae7-f3b990ae1239",
   "metadata": {},
   "outputs": [
    {
     "data": {
      "text/plain": [
       "0"
      ]
     },
     "execution_count": 121,
     "metadata": {},
     "output_type": "execute_result"
    }
   ],
   "source": [
    "dataset_duplicate = df.copy()\n",
    "\n",
    "dataset_duplicate.duplicated().sum()"
   ]
  },
  {
   "cell_type": "code",
   "execution_count": 122,
   "id": "10124fd5-30a4-4d51-86af-f093098b008d",
   "metadata": {},
   "outputs": [
    {
     "data": {
      "text/plain": [
       "0"
      ]
     },
     "execution_count": 122,
     "metadata": {},
     "output_type": "execute_result"
    }
   ],
   "source": [
    "dataset_duplicate.drop_duplicates(inplace=True)\n",
    "\n",
    "dataset_duplicate.duplicated().sum()"
   ]
  },
  {
   "cell_type": "code",
   "execution_count": 123,
   "id": "9989fece-07cc-4679-8beb-53b3c953e250",
   "metadata": {},
   "outputs": [],
   "source": [
    "dataset_ordinal = df.copy()\n",
    "dataset_one_hot = df.copy()"
   ]
  },
  {
   "cell_type": "code",
   "execution_count": 124,
   "id": "c0384a32-c719-4469-95d7-c6bb17f7cc98",
   "metadata": {},
   "outputs": [
    {
     "data": {
      "text/plain": [
       "array(['Tidak/Belum Sekolah', 'Belum Tamat SD/Sederajat',\n",
       "       'Tamat SD/Sederajat', 'SLTP/Sederajat', 'SLTA/Sederajat',\n",
       "       'Diploma I/II', 'Akademi/Diploma III/S. Muda',\n",
       "       'Diploma IV/Strata I', 'Strata II', 'Strata III'], dtype=object)"
      ]
     },
     "execution_count": 124,
     "metadata": {},
     "output_type": "execute_result"
    }
   ],
   "source": [
    "df['pendidikan'].unique()"
   ]
  },
  {
   "cell_type": "code",
   "execution_count": 125,
   "id": "1bb62c12-cb7c-4a9b-92ce-ebc08117c440",
   "metadata": {},
   "outputs": [
    {
     "data": {
      "text/html": [
       "<div>\n",
       "<style scoped>\n",
       "    .dataframe tbody tr th:only-of-type {\n",
       "        vertical-align: middle;\n",
       "    }\n",
       "\n",
       "    .dataframe tbody tr th {\n",
       "        vertical-align: top;\n",
       "    }\n",
       "\n",
       "    .dataframe thead th {\n",
       "        text-align: right;\n",
       "    }\n",
       "</style>\n",
       "<table border=\"1\" class=\"dataframe\">\n",
       "  <thead>\n",
       "    <tr style=\"text-align: right;\">\n",
       "      <th></th>\n",
       "      <th>tahun</th>\n",
       "      <th>nama_provinsi</th>\n",
       "      <th>nama_kabupaten</th>\n",
       "      <th>nama_kecamatan</th>\n",
       "      <th>nama_kelurahan</th>\n",
       "      <th>pendidikan</th>\n",
       "      <th>jumlah</th>\n",
       "    </tr>\n",
       "  </thead>\n",
       "  <tbody>\n",
       "    <tr>\n",
       "      <th>0</th>\n",
       "      <td>2021</td>\n",
       "      <td>PROVINSI DKI JAKARTA</td>\n",
       "      <td>ADM. KEPULAUAN SERIBU</td>\n",
       "      <td>KEPULAUAN SERIBU UTARA</td>\n",
       "      <td>PULAU PANGGANG</td>\n",
       "      <td>9</td>\n",
       "      <td>124</td>\n",
       "    </tr>\n",
       "    <tr>\n",
       "      <th>1</th>\n",
       "      <td>2021</td>\n",
       "      <td>PROVINSI DKI JAKARTA</td>\n",
       "      <td>ADM. KEPULAUAN SERIBU</td>\n",
       "      <td>KEPULAUAN SERIBU UTARA</td>\n",
       "      <td>PULAU PANGGANG</td>\n",
       "      <td>1</td>\n",
       "      <td>747</td>\n",
       "    </tr>\n",
       "    <tr>\n",
       "      <th>2</th>\n",
       "      <td>2021</td>\n",
       "      <td>PROVINSI DKI JAKARTA</td>\n",
       "      <td>ADM. KEPULAUAN SERIBU</td>\n",
       "      <td>KEPULAUAN SERIBU UTARA</td>\n",
       "      <td>PULAU PANGGANG</td>\n",
       "      <td>8</td>\n",
       "      <td>1238</td>\n",
       "    </tr>\n",
       "    <tr>\n",
       "      <th>3</th>\n",
       "      <td>2021</td>\n",
       "      <td>PROVINSI DKI JAKARTA</td>\n",
       "      <td>ADM. KEPULAUAN SERIBU</td>\n",
       "      <td>KEPULAUAN SERIBU UTARA</td>\n",
       "      <td>PULAU PANGGANG</td>\n",
       "      <td>5</td>\n",
       "      <td>988</td>\n",
       "    </tr>\n",
       "    <tr>\n",
       "      <th>4</th>\n",
       "      <td>2021</td>\n",
       "      <td>PROVINSI DKI JAKARTA</td>\n",
       "      <td>ADM. KEPULAUAN SERIBU</td>\n",
       "      <td>KEPULAUAN SERIBU UTARA</td>\n",
       "      <td>PULAU PANGGANG</td>\n",
       "      <td>4</td>\n",
       "      <td>2556</td>\n",
       "    </tr>\n",
       "  </tbody>\n",
       "</table>\n",
       "</div>"
      ],
      "text/plain": [
       "   tahun         nama_provinsi         nama_kabupaten          nama_kecamatan  \\\n",
       "0   2021  PROVINSI DKI JAKARTA  ADM. KEPULAUAN SERIBU  KEPULAUAN SERIBU UTARA   \n",
       "1   2021  PROVINSI DKI JAKARTA  ADM. KEPULAUAN SERIBU  KEPULAUAN SERIBU UTARA   \n",
       "2   2021  PROVINSI DKI JAKARTA  ADM. KEPULAUAN SERIBU  KEPULAUAN SERIBU UTARA   \n",
       "3   2021  PROVINSI DKI JAKARTA  ADM. KEPULAUAN SERIBU  KEPULAUAN SERIBU UTARA   \n",
       "4   2021  PROVINSI DKI JAKARTA  ADM. KEPULAUAN SERIBU  KEPULAUAN SERIBU UTARA   \n",
       "\n",
       "   nama_kelurahan  pendidikan  jumlah  \n",
       "0  PULAU PANGGANG           9     124  \n",
       "1  PULAU PANGGANG           1     747  \n",
       "2  PULAU PANGGANG           8    1238  \n",
       "3  PULAU PANGGANG           5     988  \n",
       "4  PULAU PANGGANG           4    2556  "
      ]
     },
     "execution_count": 125,
     "metadata": {},
     "output_type": "execute_result"
    }
   ],
   "source": [
    "encoder_ordinal =OrdinalEncoder()\n",
    "\n",
    "#encoding kan\n",
    "dataset_ordinal['pendidikan'] = encoder_ordinal.fit_transform(dataset_ordinal[['pendidikan']]).astype('int64')\n",
    "\n",
    "#lihat\n",
    "dataset_ordinal.head()"
   ]
  },
  {
   "cell_type": "code",
   "execution_count": 126,
   "id": "900edd07-5b8e-4ba8-b305-a72536937d98",
   "metadata": {},
   "outputs": [
    {
     "data": {
      "text/plain": [
       "array(['ADM. KEPULAUAN SERIBU', 'JAKARTA PUSAT', 'JAKARTA UTARA',\n",
       "       'JAKARTA BARAT', 'JAKARTA SELATAN', 'JAKARTA TIMUR'], dtype=object)"
      ]
     },
     "execution_count": 126,
     "metadata": {},
     "output_type": "execute_result"
    }
   ],
   "source": [
    "dataset_ordinal['nama_kabupaten'].unique()"
   ]
  },
  {
   "cell_type": "code",
   "execution_count": 127,
   "id": "5f4cca2a-fe50-4745-acf9-a551dba2f16f",
   "metadata": {},
   "outputs": [
    {
     "data": {
      "text/html": [
       "<div>\n",
       "<style scoped>\n",
       "    .dataframe tbody tr th:only-of-type {\n",
       "        vertical-align: middle;\n",
       "    }\n",
       "\n",
       "    .dataframe tbody tr th {\n",
       "        vertical-align: top;\n",
       "    }\n",
       "\n",
       "    .dataframe thead th {\n",
       "        text-align: right;\n",
       "    }\n",
       "</style>\n",
       "<table border=\"1\" class=\"dataframe\">\n",
       "  <thead>\n",
       "    <tr style=\"text-align: right;\">\n",
       "      <th></th>\n",
       "      <th>tahun</th>\n",
       "      <th>nama_provinsi</th>\n",
       "      <th>nama_kabupaten</th>\n",
       "      <th>nama_kecamatan</th>\n",
       "      <th>nama_kelurahan</th>\n",
       "      <th>jumlah</th>\n",
       "      <th>pendidikan_Akademi/Diploma III/S. Muda</th>\n",
       "      <th>pendidikan_Belum Tamat SD/Sederajat</th>\n",
       "      <th>pendidikan_Diploma I/II</th>\n",
       "      <th>pendidikan_Diploma IV/Strata I</th>\n",
       "      <th>pendidikan_SLTA/Sederajat</th>\n",
       "      <th>pendidikan_SLTP/Sederajat</th>\n",
       "      <th>pendidikan_Strata II</th>\n",
       "      <th>pendidikan_Strata III</th>\n",
       "      <th>pendidikan_Tamat SD/Sederajat</th>\n",
       "      <th>pendidikan_Tidak/Belum Sekolah</th>\n",
       "    </tr>\n",
       "  </thead>\n",
       "  <tbody>\n",
       "    <tr>\n",
       "      <th>0</th>\n",
       "      <td>2021</td>\n",
       "      <td>PROVINSI DKI JAKARTA</td>\n",
       "      <td>ADM. KEPULAUAN SERIBU</td>\n",
       "      <td>KEPULAUAN SERIBU UTARA</td>\n",
       "      <td>PULAU PANGGANG</td>\n",
       "      <td>124</td>\n",
       "      <td>0</td>\n",
       "      <td>0</td>\n",
       "      <td>0</td>\n",
       "      <td>0</td>\n",
       "      <td>0</td>\n",
       "      <td>0</td>\n",
       "      <td>0</td>\n",
       "      <td>0</td>\n",
       "      <td>0</td>\n",
       "      <td>1</td>\n",
       "    </tr>\n",
       "    <tr>\n",
       "      <th>1</th>\n",
       "      <td>2021</td>\n",
       "      <td>PROVINSI DKI JAKARTA</td>\n",
       "      <td>ADM. KEPULAUAN SERIBU</td>\n",
       "      <td>KEPULAUAN SERIBU UTARA</td>\n",
       "      <td>PULAU PANGGANG</td>\n",
       "      <td>747</td>\n",
       "      <td>0</td>\n",
       "      <td>1</td>\n",
       "      <td>0</td>\n",
       "      <td>0</td>\n",
       "      <td>0</td>\n",
       "      <td>0</td>\n",
       "      <td>0</td>\n",
       "      <td>0</td>\n",
       "      <td>0</td>\n",
       "      <td>0</td>\n",
       "    </tr>\n",
       "    <tr>\n",
       "      <th>2</th>\n",
       "      <td>2021</td>\n",
       "      <td>PROVINSI DKI JAKARTA</td>\n",
       "      <td>ADM. KEPULAUAN SERIBU</td>\n",
       "      <td>KEPULAUAN SERIBU UTARA</td>\n",
       "      <td>PULAU PANGGANG</td>\n",
       "      <td>1238</td>\n",
       "      <td>0</td>\n",
       "      <td>0</td>\n",
       "      <td>0</td>\n",
       "      <td>0</td>\n",
       "      <td>0</td>\n",
       "      <td>0</td>\n",
       "      <td>0</td>\n",
       "      <td>0</td>\n",
       "      <td>1</td>\n",
       "      <td>0</td>\n",
       "    </tr>\n",
       "    <tr>\n",
       "      <th>3</th>\n",
       "      <td>2021</td>\n",
       "      <td>PROVINSI DKI JAKARTA</td>\n",
       "      <td>ADM. KEPULAUAN SERIBU</td>\n",
       "      <td>KEPULAUAN SERIBU UTARA</td>\n",
       "      <td>PULAU PANGGANG</td>\n",
       "      <td>988</td>\n",
       "      <td>0</td>\n",
       "      <td>0</td>\n",
       "      <td>0</td>\n",
       "      <td>0</td>\n",
       "      <td>0</td>\n",
       "      <td>1</td>\n",
       "      <td>0</td>\n",
       "      <td>0</td>\n",
       "      <td>0</td>\n",
       "      <td>0</td>\n",
       "    </tr>\n",
       "    <tr>\n",
       "      <th>4</th>\n",
       "      <td>2021</td>\n",
       "      <td>PROVINSI DKI JAKARTA</td>\n",
       "      <td>ADM. KEPULAUAN SERIBU</td>\n",
       "      <td>KEPULAUAN SERIBU UTARA</td>\n",
       "      <td>PULAU PANGGANG</td>\n",
       "      <td>2556</td>\n",
       "      <td>0</td>\n",
       "      <td>0</td>\n",
       "      <td>0</td>\n",
       "      <td>0</td>\n",
       "      <td>1</td>\n",
       "      <td>0</td>\n",
       "      <td>0</td>\n",
       "      <td>0</td>\n",
       "      <td>0</td>\n",
       "      <td>0</td>\n",
       "    </tr>\n",
       "  </tbody>\n",
       "</table>\n",
       "</div>"
      ],
      "text/plain": [
       "   tahun         nama_provinsi         nama_kabupaten          nama_kecamatan  \\\n",
       "0   2021  PROVINSI DKI JAKARTA  ADM. KEPULAUAN SERIBU  KEPULAUAN SERIBU UTARA   \n",
       "1   2021  PROVINSI DKI JAKARTA  ADM. KEPULAUAN SERIBU  KEPULAUAN SERIBU UTARA   \n",
       "2   2021  PROVINSI DKI JAKARTA  ADM. KEPULAUAN SERIBU  KEPULAUAN SERIBU UTARA   \n",
       "3   2021  PROVINSI DKI JAKARTA  ADM. KEPULAUAN SERIBU  KEPULAUAN SERIBU UTARA   \n",
       "4   2021  PROVINSI DKI JAKARTA  ADM. KEPULAUAN SERIBU  KEPULAUAN SERIBU UTARA   \n",
       "\n",
       "   nama_kelurahan  jumlah  pendidikan_Akademi/Diploma III/S. Muda  \\\n",
       "0  PULAU PANGGANG     124                                       0   \n",
       "1  PULAU PANGGANG     747                                       0   \n",
       "2  PULAU PANGGANG    1238                                       0   \n",
       "3  PULAU PANGGANG     988                                       0   \n",
       "4  PULAU PANGGANG    2556                                       0   \n",
       "\n",
       "   pendidikan_Belum Tamat SD/Sederajat  pendidikan_Diploma I/II  \\\n",
       "0                                    0                        0   \n",
       "1                                    1                        0   \n",
       "2                                    0                        0   \n",
       "3                                    0                        0   \n",
       "4                                    0                        0   \n",
       "\n",
       "   pendidikan_Diploma IV/Strata I  pendidikan_SLTA/Sederajat  \\\n",
       "0                               0                          0   \n",
       "1                               0                          0   \n",
       "2                               0                          0   \n",
       "3                               0                          0   \n",
       "4                               0                          1   \n",
       "\n",
       "   pendidikan_SLTP/Sederajat  pendidikan_Strata II  pendidikan_Strata III  \\\n",
       "0                          0                     0                      0   \n",
       "1                          0                     0                      0   \n",
       "2                          0                     0                      0   \n",
       "3                          1                     0                      0   \n",
       "4                          0                     0                      0   \n",
       "\n",
       "   pendidikan_Tamat SD/Sederajat  pendidikan_Tidak/Belum Sekolah  \n",
       "0                              0                               1  \n",
       "1                              0                               0  \n",
       "2                              1                               0  \n",
       "3                              0                               0  \n",
       "4                              0                               0  "
      ]
     },
     "execution_count": 127,
     "metadata": {},
     "output_type": "execute_result"
    }
   ],
   "source": [
    "temp_dataset = pd.get_dummies(dataset_one_hot[['pendidikan']])\n",
    "\n",
    "temp_dataset = pd.DataFrame(temp_dataset)\n",
    "\n",
    "dataset_one_hot.drop('pendidikan', axis=1, inplace=True)\n",
    "\n",
    "dataset_one_hot = dataset_one_hot.join(temp_dataset)\n",
    "dataset_one_hot.head(5)"
   ]
  }
 ],
 "metadata": {
  "kernelspec": {
   "display_name": "Python 3 (ipykernel)",
   "language": "python",
   "name": "python3"
  },
  "language_info": {
   "codemirror_mode": {
    "name": "ipython",
    "version": 3
   },
   "file_extension": ".py",
   "mimetype": "text/x-python",
   "name": "python",
   "nbconvert_exporter": "python",
   "pygments_lexer": "ipython3",
   "version": "3.10.7"
  }
 },
 "nbformat": 4,
 "nbformat_minor": 5
}
